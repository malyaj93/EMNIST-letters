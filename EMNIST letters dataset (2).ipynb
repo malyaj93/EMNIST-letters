{
 "cells": [
  {
   "cell_type": "markdown",
   "metadata": {
    "id": "e9R3YcjKbPHx"
   },
   "source": [
    "### CPSC 585 project5\n",
    "    Name               CWID\n",
    "    Sicheng Long      887447837\n",
    "    Malyaj Sirothia   886687508"
   ]
  },
  {
   "cell_type": "code",
   "execution_count": 1,
   "metadata": {
    "colab": {
     "base_uri": "https://localhost:8080/",
     "height": 1000
    },
    "executionInfo": {
     "elapsed": 5219,
     "status": "ok",
     "timestamp": 1618284682388,
     "user": {
      "displayName": "SC Loong",
      "photoUrl": "",
      "userId": "05070573864239400190"
     },
     "user_tz": 420
    },
    "id": "7S6yX50fsALV",
    "outputId": "6b17819e-03df-4421-cc28-7bb80ef53e3d"
   },
   "outputs": [
    {
     "data": {
      "image/png": "[encoded data removed]",
      "text/plain": [
       "<Figure size 432x288 with 1 Axes>"
      ]
     },
     "metadata": {
      "needs_background": "light"
     },
     "output_type": "display_data"
    },
    {
     "data": {
      "image/png": "[encoded data removed]",
      "text/plain": [
       "<Figure size 432x288 with 1 Axes>"
      ]
     },
     "metadata": {
      "needs_background": "light"
     },
     "output_type": "display_data"
    },
    {
     "data": {
      "image/png": "[encoded data removed]",
      "text/plain": [
       "<Figure size 432x288 with 1 Axes>"
      ]
     },
     "metadata": {
      "needs_background": "light"
     },
     "output_type": "display_data"
    },
    {
     "data": {
      "image/png": "[encoded data removed]",
      "text/plain": [
       "<Figure size 432x288 with 1 Axes>"
      ]
     },
     "metadata": {
      "needs_background": "light"
     },
     "output_type": "display_data"
    },
    {
     "data": {
      "image/png": "[encoded data removed]",
      "text/plain": [
       "<Figure size 432x288 with 1 Axes>"
      ]
     },
     "metadata": {
      "needs_background": "light"
     },
     "output_type": "display_data"
    },
    {
     "data": {
      "image/png": "[encoded data removed]",
      "text/plain": [
       "<Figure size 432x288 with 1 Axes>"
      ]
     },
     "metadata": {
      "needs_background": "light"
     },
     "output_type": "display_data"
    },
    {
     "data": {
      "image/png": "[encoded data removed]",
      "text/plain": [
       "<Figure size 432x288 with 1 Axes>"
      ]
     },
     "metadata": {
      "needs_background": "light"
     },
     "output_type": "display_data"
    },
    {
     "data": {
      "image/png": "[encoded data removed]",
      "text/plain": [
       "<Figure size 432x288 with 1 Axes>"
      ]
     },
     "metadata": {
      "needs_background": "light"
     },
     "output_type": "display_data"
    },
    {
     "data": {
      "image/png": "[encoded data removed]",
      "text/plain": [
       "<Figure size 432x288 with 1 Axes>"
      ]
     },
     "metadata": {
      "needs_background": "light"
     },
     "output_type": "display_data"
    },
    {
     "name": "stdout",
     "output_type": "stream",
     "text": [
      "Shape of train set: (104000, 784)\n",
      "Shape of train label: (104000, 27)\n",
      "Shape of test set: (20800, 784)\n",
      "Shape of test label: (20800, 27)\n",
      "Shape of validate set: (20800, 784)\n",
      "Shape of validate label: (20800, 27)\n"
     ]
    }
   ],
   "source": [
    "'''\n",
    "Question 1\n",
    "Load emnist_letters.npz, and output some of the images\n",
    "'''\n",
    "\n",
    "import numpy as np\n",
    "import matplotlib.pyplot as plt\n",
    "\n",
    "data = np.load('emnist_letters.npz') # load the file from google driver\n",
    "# 6 sets of the data886687508\n",
    "test_images = data['test_images']\n",
    "test_labels = data['test_labels']\n",
    "train_images = data['train_images']\n",
    "train_labels = data['train_labels']\n",
    "validate_images = data['validate_images']\n",
    "validate_labels = data['validate_labels']\n",
    "\n",
    "# output 9 images\n",
    "train1 = np.reshape(train_images[0], (28, 28))\n",
    "test1 = np.reshape(test_images[0], (28, 28))\n",
    "validate1 = np.reshape(validate_images[0], (28, 28))\n",
    "train2 = np.reshape(train_images[103999], (28, 28))\n",
    "test2 = np.reshape(test_images[20799], (28, 28))\n",
    "validate2 = np.reshape(validate_images[20799], (28, 28))\n",
    "train3 = np.reshape(train_images[10000], (28, 28))\n",
    "test3 = np.reshape(test_images[10000], (28, 28))\n",
    "validate3 = np.reshape(validate_images[10000], (28, 28))\n",
    "L = [train1, train2, train3, test1, test2, test3, validate1, validate2, validate3]\n",
    "for item in L:\n",
    "  plt.imshow(item) \n",
    "  plt.axis('off') \n",
    "  plt.show()\n",
    "\n",
    "# show the shape of every set    \n",
    "print(\"Shape of train set:\", train_images.shape)\n",
    "print(\"Shape of train label:\", train_labels.shape)\n",
    "print(\"Shape of test set:\", test_images.shape)\n",
    "print(\"Shape of test label:\", test_labels.shape)\n",
    "print(\"Shape of validate set:\", validate_images.shape)\n",
    "print(\"Shape of validate label:\", validate_labels.shape)"
   ]
  },
  {
   "cell_type": "code",
   "execution_count": 2,
   "metadata": {
    "colab": {
     "base_uri": "https://localhost:8080/"
    },
    "executionInfo": {
     "elapsed": 15742,
     "status": "ok",
     "timestamp": 1618284745319,
     "user": {
      "displayName": "SC Loong",
      "photoUrl": "",
      "userId": "05070573864239400190"
     },
     "user_tz": 420
    },
    "id": "9kT8QqFasezj",
    "outputId": "e1ae296c-a7d8-4d7a-8181-1315fd03d86d"
   },
   "outputs": [
    {
     "name": "stdout",
     "output_type": "stream",
     "text": [
      "Epoch 1/5\n",
      "813/813 [==============================] - 7s 8ms/step - loss: 1.0737 - accuracy: 0.6901 - val_loss: 0.4685 - val_accuracy: 0.8543\n",
      "Epoch 2/5\n",
      "813/813 [==============================] - 5s 6ms/step - loss: 0.3963 - accuracy: 0.8767 - val_loss: 0.3692 - val_accuracy: 0.8853\n",
      "Epoch 3/5\n",
      "813/813 [==============================] - 5s 7ms/step - loss: 0.3052 - accuracy: 0.9035 - val_loss: 0.3585 - val_accuracy: 0.8881\n",
      "Epoch 4/5\n",
      "813/813 [==============================] - 5s 7ms/step - loss: 0.2594 - accuracy: 0.9159 - val_loss: 0.3340 - val_accuracy: 0.8991\n",
      "Epoch 5/5\n",
      "813/813 [==============================] - 5s 7ms/step - loss: 0.2256 - accuracy: 0.9258 - val_loss: 0.3484 - val_accuracy: 0.8935\n",
      "650/650 [==============================] - 1s 2ms/step - loss: 0.3461 - accuracy: 0.8963\n",
      "650/650 [==============================] - 1s 2ms/step - loss: 0.3484 - accuracy: 0.8935\n",
      "test_acc----->> 0.8962500095367432\n",
      "Validate_acc---------->> 0.8935096263885498\n"
     ]
    }
   ],
   "source": [
    "'''\n",
    "Question 2\n",
    "Applying Chollet’s MNIST notebook to the EMNIST Letters data\n",
    "\n",
    "After applying the same architecture as MNIST to the EMINST letter data we are getting comparetively lesser accuracy.\n",
    "'''\n",
    "\n",
    "from keras import models\n",
    "from keras import layers\n",
    "\n",
    "train_images = train_images.reshape((104000, 28 * 28))\n",
    "test_images = test_images.reshape((20800, 28 * 28))\n",
    "validate_images = validate_images.reshape((20800, 28 * 28))\n",
    "\n",
    "network1 = models.Sequential()\n",
    "network1.add(layers.Dense(512, activation='relu', input_shape=(28 * 28,)))\n",
    "network1.add(layers.Dense(27, activation='softmax'))\n",
    "\n",
    "\n",
    "network1.compile(optimizer='rmsprop',\n",
    "                loss='categorical_crossentropy',\n",
    "                metrics=['accuracy'])\n",
    "\n",
    "network1.fit(train_images, train_labels, validation_data=(validate_images,validate_labels), epochs=5, batch_size=128)\n",
    "\n",
    "test_loss, test_acc = network1.evaluate(test_images, test_labels)\n",
    "validate_loss, validate_acc = network1.evaluate(validate_images, validate_labels)\n",
    "print('test_acc----->>', test_acc)\n",
    "print('Validate_acc---------->>', validate_acc)\n"
   ]
  },
  {
   "cell_type": "code",
   "execution_count": null,
   "metadata": {
    "colab": {
     "base_uri": "https://localhost:8080/"
    },
    "executionInfo": {
     "elapsed": 129055,
     "status": "ok",
     "timestamp": 1618285007969,
     "user": {
      "displayName": "SC Loong",
      "photoUrl": "",
      "userId": "05070573864239400190"
     },
     "user_tz": 420
    },
    "id": "fhFTQ5onsiSk",
    "outputId": "eb074d7a-634a-43e1-9c93-e55c828f36ca"
   },
   "outputs": [
    {
     "name": "stdout",
     "output_type": "stream",
     "text": [
      "Epoch 1/50\n",
      "813/813 [==============================] - 11s 13ms/step - loss: 0.9467 - accuracy: 0.7200 - val_loss: 0.4410 - val_accuracy: 0.8603\n",
      "Epoch 2/50\n",
      "813/813 [==============================] - 10s 13ms/step - loss: 0.3258 - accuracy: 0.8951 - val_loss: 0.3428 - val_accuracy: 0.8962\n",
      "Epoch 3/50\n",
      "813/813 [==============================] - 11s 13ms/step - loss: 0.2526 - accuracy: 0.9169 - val_loss: 0.3193 - val_accuracy: 0.9054\n",
      "Epoch 4/50\n",
      "813/813 [==============================] - 13s 16ms/step - loss: 0.2051 - accuracy: 0.9305 - val_loss: 0.3260 - val_accuracy: 0.9073\n",
      "Epoch 5/50\n",
      "813/813 [==============================] - 11s 13ms/step - loss: 0.1763 - accuracy: 0.9390 - val_loss: 0.3451 - val_accuracy: 0.9008\n",
      "Epoch 6/50\n",
      "813/813 [==============================] - 11s 14ms/step - loss: 0.1553 - accuracy: 0.9458 - val_loss: 0.3472 - val_accuracy: 0.9079\n",
      "Epoch 7/50\n",
      "813/813 [==============================] - 11s 14ms/step - loss: 0.1428 - accuracy: 0.9502 - val_loss: 0.3607 - val_accuracy: 0.9122\n",
      "Epoch 8/50\n",
      "813/813 [==============================] - 11s 14ms/step - loss: 0.1270 - accuracy: 0.9543 - val_loss: 0.3741 - val_accuracy: 0.9066\n",
      "Epoch 9/50\n",
      "813/813 [==============================] - 11s 14ms/step - loss: 0.1178 - accuracy: 0.9570 - val_loss: 0.3881 - val_accuracy: 0.9115\n",
      "Epoch 10/50\n",
      "813/813 [==============================] - 11s 14ms/step - loss: 0.1058 - accuracy: 0.9598 - val_loss: 0.4126 - val_accuracy: 0.9083\n",
      "Epoch 11/50\n",
      "813/813 [==============================] - 11s 14ms/step - loss: 0.0995 - accuracy: 0.9622 - val_loss: 0.4304 - val_accuracy: 0.9115\n",
      "Epoch 12/50\n",
      "813/813 [==============================] - 11s 14ms/step - loss: 0.0919 - accuracy: 0.9648 - val_loss: 0.4398 - val_accuracy: 0.9115\n",
      "Epoch 13/50\n",
      "813/813 [==============================] - 11s 14ms/step - loss: 0.0889 - accuracy: 0.9664 - val_loss: 0.4559 - val_accuracy: 0.9113\n",
      "Epoch 14/50\n",
      "774/813 [===========================>..] - ETA: 0s - loss: 0.0828 - accuracy: 0.9680"
     ]
    }
   ],
   "source": [
    "'''\n",
    "Question 3\n",
    "Keep the same number of layers in the network\n",
    "Modify the architecture to improve the accuracy\n",
    "Name this new model as \"network2\"\n",
    "\n",
    "'''\n",
    "\n",
    "network2 = models.Sequential()\n",
    "network2.add(layers.Dense(2048, activation='relu', input_shape=(28 * 28,)))  # add more nodes in this hidden layer\n",
    "network2.add(layers.Dense(27, activation='softmax'))\n",
    "\n",
    "network2.compile(optimizer='rmsprop',\n",
    "                loss='categorical_crossentropy',\n",
    "                metrics=['accuracy'])\n",
    "\n",
    "# add validation set in the training process\n",
    "network2 .fit(train_images, train_labels, validation_data=(validate_images,validate_labels), epochs=50, batch_size=128)"
   ]
  },
  {
   "cell_type": "markdown",
   "metadata": {
    "id": "eIWpZvCWLrJs"
   },
   "source": [
    "We test for several values of nodes number in the hidden layer, like 512, 768, 1024, and 2048. We found 2048 might have the best accuracy on validation set.  \n",
    "In step 3, we set the number of epoch to 50. From the result, we can find that the loss of validation set have the lowest loss value at about epoch 20 to 30, so we can use early stop to upgrade our accuracy. The overall accuray of the validation set is much better than question 2."
   ]
  },
  {
   "cell_type": "code",
   "execution_count": 23,
   "metadata": {
    "colab": {
     "base_uri": "https://localhost:8080/"
    },
    "executionInfo": {
     "elapsed": 1587,
     "status": "ok",
     "timestamp": 1618286351836,
     "user": {
      "displayName": "SC Loong",
      "photoUrl": "",
      "userId": "05070573864239400190"
     },
     "user_tz": 420
    },
    "id": "3Wrc8w-MuyAf",
    "outputId": "04823111-0a6d-4c3a-ac73-177bf1e2edd5"
   },
   "outputs": [
    {
     "name": "stdout",
     "output_type": "stream",
     "text": [
      "650/650 [==============================] - 1s 2ms/step - loss: 0.9239 - accuracy: 0.9038\n"
     ]
    }
   ],
   "source": [
    "test_loss, test_acc = network2.evaluate(test_images, test_labels)"
   ]
  },
  {
   "cell_type": "markdown",
   "metadata": {
    "id": "XdDNVHzDLRGZ"
   },
   "source": [
    "The accuracy of test set applying for network2, 90.38%"
   ]
  },
  {
   "cell_type": "code",
   "execution_count": 62,
   "metadata": {
    "colab": {
     "base_uri": "https://localhost:8080/"
    },
    "executionInfo": {
     "elapsed": 72587,
     "status": "ok",
     "timestamp": 1618289425369,
     "user": {
      "displayName": "SC Loong",
      "photoUrl": "",
      "userId": "05070573864239400190"
     },
     "user_tz": 420
    },
    "id": "Dp2OGI-VLh5r",
    "outputId": "be34dbf4-e543-4179-a859-64cfbf98698a"
   },
   "outputs": [
    {
     "name": "stdout",
     "output_type": "stream",
     "text": [
      "Epoch 1/50\n",
      "813/813 [==============================] - 4s 4ms/step - loss: 1.2215 - accuracy: 0.7142 - val_loss: 0.6488 - val_accuracy: 0.8650\n",
      "\n",
      "Epoch 00001: val_accuracy improved from -inf to 0.86500, saving model to /content/drive/MyDrive/Colab/best_weights.hdf5\n",
      "Epoch 2/50\n",
      "813/813 [==============================] - 3s 3ms/step - loss: 0.5689 - accuracy: 0.8856 - val_loss: 0.5757 - val_accuracy: 0.8740\n",
      "\n",
      "Epoch 00002: val_accuracy improved from 0.86500 to 0.87399, saving model to /content/drive/MyDrive/Colab/best_weights.hdf5\n",
      "Epoch 3/50\n",
      "813/813 [==============================] - 3s 3ms/step - loss: 0.4830 - accuracy: 0.9034 - val_loss: 0.5089 - val_accuracy: 0.8963\n",
      "\n",
      "Epoch 00003: val_accuracy improved from 0.87399 to 0.89625, saving model to /content/drive/MyDrive/Colab/best_weights.hdf5\n",
      "Epoch 4/50\n",
      "813/813 [==============================] - 3s 3ms/step - loss: 0.4408 - accuracy: 0.9120 - val_loss: 0.5058 - val_accuracy: 0.8943\n",
      "\n",
      "Epoch 00004: val_accuracy did not improve from 0.89625\n",
      "Epoch 5/50\n",
      "813/813 [==============================] - 3s 3ms/step - loss: 0.4090 - accuracy: 0.9162 - val_loss: 0.4808 - val_accuracy: 0.8984\n",
      "\n",
      "Epoch 00005: val_accuracy improved from 0.89625 to 0.89841, saving model to /content/drive/MyDrive/Colab/best_weights.hdf5\n",
      "Epoch 6/50\n",
      "813/813 [==============================] - 3s 3ms/step - loss: 0.3885 - accuracy: 0.9211 - val_loss: 0.4816 - val_accuracy: 0.9000\n",
      "\n",
      "Epoch 00006: val_accuracy improved from 0.89841 to 0.89995, saving model to /content/drive/MyDrive/Colab/best_weights.hdf5\n",
      "Epoch 7/50\n",
      "813/813 [==============================] - 3s 3ms/step - loss: 0.3649 - accuracy: 0.9257 - val_loss: 0.4552 - val_accuracy: 0.9055\n",
      "\n",
      "Epoch 00007: val_accuracy improved from 0.89995 to 0.90548, saving model to /content/drive/MyDrive/Colab/best_weights.hdf5\n",
      "Epoch 8/50\n",
      "813/813 [==============================] - 3s 3ms/step - loss: 0.3559 - accuracy: 0.9271 - val_loss: 0.4688 - val_accuracy: 0.8998\n",
      "\n",
      "Epoch 00008: val_accuracy did not improve from 0.90548\n",
      "Epoch 9/50\n",
      "813/813 [==============================] - 3s 3ms/step - loss: 0.3404 - accuracy: 0.9306 - val_loss: 0.4595 - val_accuracy: 0.9042\n",
      "\n",
      "Epoch 00009: val_accuracy did not improve from 0.90548\n",
      "Epoch 10/50\n",
      "813/813 [==============================] - 3s 4ms/step - loss: 0.3305 - accuracy: 0.9327 - val_loss: 0.4609 - val_accuracy: 0.9017\n",
      "\n",
      "Epoch 00010: val_accuracy did not improve from 0.90548\n",
      "Epoch 11/50\n",
      "813/813 [==============================] - 3s 3ms/step - loss: 0.3226 - accuracy: 0.9349 - val_loss: 0.4592 - val_accuracy: 0.9031\n",
      "\n",
      "Epoch 00011: val_accuracy did not improve from 0.90548\n",
      "Epoch 12/50\n",
      "813/813 [==============================] - 3s 3ms/step - loss: 0.3072 - accuracy: 0.9389 - val_loss: 0.4443 - val_accuracy: 0.9077\n",
      "\n",
      "Epoch 00012: val_accuracy improved from 0.90548 to 0.90769, saving model to /content/drive/MyDrive/Colab/best_weights.hdf5\n",
      "Epoch 13/50\n",
      "813/813 [==============================] - 3s 3ms/step - loss: 0.3028 - accuracy: 0.9394 - val_loss: 0.4412 - val_accuracy: 0.9072\n",
      "\n",
      "Epoch 00013: val_accuracy did not improve from 0.90769\n",
      "Epoch 14/50\n",
      "813/813 [==============================] - 3s 3ms/step - loss: 0.2943 - accuracy: 0.9406 - val_loss: 0.4772 - val_accuracy: 0.8984\n",
      "\n",
      "Epoch 00014: val_accuracy did not improve from 0.90769\n",
      "Epoch 15/50\n",
      "813/813 [==============================] - 3s 3ms/step - loss: 0.2899 - accuracy: 0.9420 - val_loss: 0.4382 - val_accuracy: 0.9108\n",
      "\n",
      "Epoch 00015: val_accuracy improved from 0.90769 to 0.91077, saving model to /content/drive/MyDrive/Colab/best_weights.hdf5\n",
      "Epoch 16/50\n",
      "813/813 [==============================] - 3s 3ms/step - loss: 0.2836 - accuracy: 0.9432 - val_loss: 0.4606 - val_accuracy: 0.9049\n",
      "\n",
      "Epoch 00016: val_accuracy did not improve from 0.91077\n",
      "Epoch 17/50\n",
      "813/813 [==============================] - 3s 3ms/step - loss: 0.2803 - accuracy: 0.9444 - val_loss: 0.4846 - val_accuracy: 0.8992\n",
      "\n",
      "Epoch 00017: val_accuracy did not improve from 0.91077\n",
      "Epoch 18/50\n",
      "813/813 [==============================] - 3s 3ms/step - loss: 0.2756 - accuracy: 0.9456 - val_loss: 0.4685 - val_accuracy: 0.9003\n",
      "\n",
      "Epoch 00018: val_accuracy did not improve from 0.91077\n",
      "Epoch 19/50\n",
      "813/813 [==============================] - 3s 3ms/step - loss: 0.2739 - accuracy: 0.9460 - val_loss: 0.4640 - val_accuracy: 0.9032\n",
      "\n",
      "Epoch 00019: val_accuracy did not improve from 0.91077\n",
      "Epoch 20/50\n",
      "813/813 [==============================] - 3s 3ms/step - loss: 0.2708 - accuracy: 0.9463 - val_loss: 0.4640 - val_accuracy: 0.9046\n",
      "\n",
      "Epoch 00020: val_accuracy did not improve from 0.91077\n",
      "Epoch 21/50\n",
      "813/813 [==============================] - 3s 3ms/step - loss: 0.2646 - accuracy: 0.9485 - val_loss: 0.4694 - val_accuracy: 0.9042\n",
      "\n",
      "Epoch 00021: val_accuracy did not improve from 0.91077\n",
      "Epoch 22/50\n",
      "813/813 [==============================] - 3s 3ms/step - loss: 0.2633 - accuracy: 0.9481 - val_loss: 0.4807 - val_accuracy: 0.9027\n",
      "\n",
      "Epoch 00022: val_accuracy did not improve from 0.91077\n",
      "Epoch 23/50\n",
      "813/813 [==============================] - 3s 3ms/step - loss: 0.2582 - accuracy: 0.9514 - val_loss: 0.4706 - val_accuracy: 0.9053\n",
      "\n",
      "Epoch 00023: val_accuracy did not improve from 0.91077\n",
      "Epoch 24/50\n",
      "813/813 [==============================] - 3s 3ms/step - loss: 0.2563 - accuracy: 0.9502 - val_loss: 0.4602 - val_accuracy: 0.9102\n",
      "\n",
      "Epoch 00024: val_accuracy did not improve from 0.91077\n",
      "Epoch 25/50\n",
      "813/813 [==============================] - 3s 3ms/step - loss: 0.2559 - accuracy: 0.9502 - val_loss: 0.4767 - val_accuracy: 0.9034\n",
      "\n",
      "Epoch 00025: val_accuracy did not improve from 0.91077\n",
      "Epoch 00025: early stopping\n"
     ]
    }
   ],
   "source": [
    "'''\n",
    "Question 4\n",
    "Based on step 3, we make another model \"network3\".\n",
    "Trying to get a higher accuracy on validation set of network3\n",
    "'''\n",
    "\n",
    "from keras.callbacks import EarlyStopping, ModelCheckpoint\n",
    "from keras import regularizers\n",
    "#from keras.layers import Dropout\n",
    "\n",
    "network3 = models.Sequential()\n",
    "network3.add(layers.Dense(2048, activation='relu', input_shape=(28 * 28,), kernel_regularizer=regularizers.l1(l1=1e-5)))  # deleted: , kernel_regularizer=regularizers.l1(l1=1e-5)\n",
    "#network3.add(Dropout(0.2))\n",
    "network3.add(layers.Dense(27, activation='softmax'))\n",
    "\n",
    "best_weights_path = '/content/drive/MyDrive/Colab/best_weights.hdf5'  # the path of storing the best weights\n",
    "early_stopping = EarlyStopping(monitor='val_accuracy', patience=10, verbose=1, mode='auto') # early stoping, monitoring accuracy on validation set\n",
    "save_best_model = ModelCheckpoint(best_weights_path, monitor='val_accuracy', verbose=1, save_best_only=True, mode='auto') # save the best model with best weights\n",
    "\n",
    "network3.compile(optimizer='rmsprop',\n",
    "                loss='categorical_crossentropy',\n",
    "                metrics=['accuracy'])\n",
    "\n",
    "network3.fit(train_images, train_labels, validation_data=(validate_images,validate_labels), callbacks=[early_stopping, save_best_model], epochs=50, batch_size=128)\n",
    "network3.load_weights(best_weights_path)"
   ]
  },
  {
   "cell_type": "markdown",
   "metadata": {
    "id": "3enJGBVPNS8j"
   },
   "source": [
    "We use early stop and regulariztion to get a better accuracy. At epoch 15, the model got the best accuracy at 91.077%.  \n",
    "We also test for several activation functions in the hidden layer, leaky RELU, PRELU, and tanh. The best accuracy on validation set is RELU.  \n",
    "We also tried Dropout, but could not get a better accuracy."
   ]
  },
  {
   "cell_type": "code",
   "execution_count": 63,
   "metadata": {
    "colab": {
     "base_uri": "https://localhost:8080/"
    },
    "executionInfo": {
     "elapsed": 1738,
     "status": "ok",
     "timestamp": 1618289486606,
     "user": {
      "displayName": "SC Loong",
      "photoUrl": "",
      "userId": "05070573864239400190"
     },
     "user_tz": 420
    },
    "id": "wXtFiTSBUGua",
    "outputId": "fd9c5a92-62eb-4121-adba-5f29cc8cf24d"
   },
   "outputs": [
    {
     "name": "stdout",
     "output_type": "stream",
     "text": [
      "650/650 [==============================] - 1s 2ms/step - loss: 0.4461 - accuracy: 0.9070\n"
     ]
    }
   ],
   "source": [
    "test_loss, test_acc = network3.evaluate(test_images, test_labels)"
   ]
  },
  {
   "cell_type": "markdown",
   "metadata": {
    "id": "cN1ZwShhabxG"
   },
   "source": [
    "There is an improvment about the accuracy on test set, improved about 0.4%."
   ]
  },
  {
   "cell_type": "code",
   "execution_count": 56,
   "metadata": {
    "colab": {
     "base_uri": "https://localhost:8080/"
    },
    "executionInfo": {
     "elapsed": 66191,
     "status": "ok",
     "timestamp": 1618288542312,
     "user": {
      "displayName": "SC Loong",
      "photoUrl": "",
      "userId": "05070573864239400190"
     },
     "user_tz": 420
    },
    "id": "iRU2qpRbbGyf",
    "outputId": "c147f1f1-ca0c-4ec1-adf7-f75770db88d5"
   },
   "outputs": [
    {
     "name": "stdout",
     "output_type": "stream",
     "text": [
      "Epoch 1/50\n",
      "813/813 [==============================] - 4s 4ms/step - loss: 1.2877 - accuracy: 0.6957 - val_loss: 0.6488 - val_accuracy: 0.8779\n",
      "\n",
      "Epoch 00001: val_accuracy improved from -inf to 0.87793, saving model to /content/drive/MyDrive/Colab/best_weights_2.hdf5\n",
      "Epoch 2/50\n",
      "813/813 [==============================] - 3s 4ms/step - loss: 0.5905 - accuracy: 0.8903 - val_loss: 0.5793 - val_accuracy: 0.8885\n",
      "\n",
      "Epoch 00002: val_accuracy improved from 0.87793 to 0.88846, saving model to /content/drive/MyDrive/Colab/best_weights_2.hdf5\n",
      "Epoch 3/50\n",
      "813/813 [==============================] - 3s 3ms/step - loss: 0.4898 - accuracy: 0.9107 - val_loss: 0.5203 - val_accuracy: 0.9030\n",
      "\n",
      "Epoch 00003: val_accuracy improved from 0.88846 to 0.90303, saving model to /content/drive/MyDrive/Colab/best_weights_2.hdf5\n",
      "Epoch 4/50\n",
      "813/813 [==============================] - 3s 3ms/step - loss: 0.4309 - accuracy: 0.9186 - val_loss: 0.4891 - val_accuracy: 0.9037\n",
      "\n",
      "Epoch 00004: val_accuracy improved from 0.90303 to 0.90365, saving model to /content/drive/MyDrive/Colab/best_weights_2.hdf5\n",
      "Epoch 5/50\n",
      "813/813 [==============================] - 3s 4ms/step - loss: 0.3888 - accuracy: 0.9263 - val_loss: 0.4516 - val_accuracy: 0.9085\n",
      "\n",
      "Epoch 00005: val_accuracy improved from 0.90365 to 0.90851, saving model to /content/drive/MyDrive/Colab/best_weights_2.hdf5\n",
      "Epoch 6/50\n",
      "813/813 [==============================] - 3s 4ms/step - loss: 0.3613 - accuracy: 0.9296 - val_loss: 0.4510 - val_accuracy: 0.9089\n",
      "\n",
      "Epoch 00006: val_accuracy improved from 0.90851 to 0.90894, saving model to /content/drive/MyDrive/Colab/best_weights_2.hdf5\n",
      "Epoch 7/50\n",
      "813/813 [==============================] - 3s 3ms/step - loss: 0.3388 - accuracy: 0.9325 - val_loss: 0.4466 - val_accuracy: 0.9107\n",
      "\n",
      "Epoch 00007: val_accuracy improved from 0.90894 to 0.91067, saving model to /content/drive/MyDrive/Colab/best_weights_2.hdf5\n",
      "Epoch 8/50\n",
      "813/813 [==============================] - 3s 3ms/step - loss: 0.3225 - accuracy: 0.9354 - val_loss: 0.4461 - val_accuracy: 0.9053\n",
      "\n",
      "Epoch 00008: val_accuracy did not improve from 0.91067\n",
      "Epoch 9/50\n",
      "813/813 [==============================] - 3s 4ms/step - loss: 0.3117 - accuracy: 0.9379 - val_loss: 0.4735 - val_accuracy: 0.9067\n",
      "\n",
      "Epoch 00009: val_accuracy did not improve from 0.91067\n",
      "Epoch 10/50\n",
      "813/813 [==============================] - 3s 4ms/step - loss: 0.3034 - accuracy: 0.9384 - val_loss: 0.4576 - val_accuracy: 0.9057\n",
      "\n",
      "Epoch 00010: val_accuracy did not improve from 0.91067\n",
      "Epoch 11/50\n",
      "813/813 [==============================] - 3s 4ms/step - loss: 0.2973 - accuracy: 0.9396 - val_loss: 0.4854 - val_accuracy: 0.9044\n",
      "\n",
      "Epoch 00011: val_accuracy did not improve from 0.91067\n",
      "Epoch 12/50\n",
      "813/813 [==============================] - 3s 4ms/step - loss: 0.2892 - accuracy: 0.9420 - val_loss: 0.4267 - val_accuracy: 0.9183\n",
      "\n",
      "Epoch 00012: val_accuracy improved from 0.91067 to 0.91827, saving model to /content/drive/MyDrive/Colab/best_weights_2.hdf5\n",
      "Epoch 13/50\n",
      "813/813 [==============================] - 3s 4ms/step - loss: 0.2868 - accuracy: 0.9413 - val_loss: 0.4556 - val_accuracy: 0.9140\n",
      "\n",
      "Epoch 00013: val_accuracy did not improve from 0.91827\n",
      "Epoch 14/50\n",
      "813/813 [==============================] - 3s 4ms/step - loss: 0.2819 - accuracy: 0.9439 - val_loss: 0.4798 - val_accuracy: 0.9148\n",
      "\n",
      "Epoch 00014: val_accuracy did not improve from 0.91827\n",
      "Epoch 15/50\n",
      "813/813 [==============================] - 3s 4ms/step - loss: 0.2789 - accuracy: 0.9428 - val_loss: 0.4782 - val_accuracy: 0.9108\n",
      "\n",
      "Epoch 00015: val_accuracy did not improve from 0.91827\n",
      "Epoch 16/50\n",
      "813/813 [==============================] - 3s 4ms/step - loss: 0.2789 - accuracy: 0.9445 - val_loss: 0.4565 - val_accuracy: 0.9108\n",
      "\n",
      "Epoch 00016: val_accuracy did not improve from 0.91827\n",
      "Epoch 17/50\n",
      "813/813 [==============================] - 3s 4ms/step - loss: 0.2715 - accuracy: 0.9467 - val_loss: 0.4564 - val_accuracy: 0.9133\n",
      "\n",
      "Epoch 00017: val_accuracy did not improve from 0.91827\n",
      "Epoch 18/50\n",
      "813/813 [==============================] - 3s 4ms/step - loss: 0.2716 - accuracy: 0.9446 - val_loss: 0.4880 - val_accuracy: 0.9100\n",
      "\n",
      "Epoch 00018: val_accuracy did not improve from 0.91827\n",
      "Epoch 19/50\n",
      "813/813 [==============================] - 3s 4ms/step - loss: 0.2669 - accuracy: 0.9468 - val_loss: 0.4765 - val_accuracy: 0.9129\n",
      "\n",
      "Epoch 00019: val_accuracy did not improve from 0.91827\n",
      "Epoch 20/50\n",
      "813/813 [==============================] - 3s 4ms/step - loss: 0.2706 - accuracy: 0.9452 - val_loss: 0.4821 - val_accuracy: 0.9156\n",
      "\n",
      "Epoch 00020: val_accuracy did not improve from 0.91827\n",
      "Epoch 21/50\n",
      "813/813 [==============================] - 3s 3ms/step - loss: 0.2676 - accuracy: 0.9461 - val_loss: 0.5043 - val_accuracy: 0.9121\n",
      "\n",
      "Epoch 00021: val_accuracy did not improve from 0.91827\n",
      "Epoch 22/50\n",
      "813/813 [==============================] - 3s 4ms/step - loss: 0.2662 - accuracy: 0.9449 - val_loss: 0.5023 - val_accuracy: 0.9111\n",
      "\n",
      "Epoch 00022: val_accuracy did not improve from 0.91827\n",
      "Epoch 00022: early stopping\n"
     ]
    }
   ],
   "source": [
    "'''\n",
    "Question 5\n",
    "Add additional Dense hidden layers as appropriate to improve the accuracy.\n",
    "Based on step 4, we make another model \"network4\".\n",
    "'''\n",
    "\n",
    "network4 = models.Sequential()\n",
    "network4.add(layers.Dense(512, activation='relu', input_shape=(28 * 28,), kernel_regularizer=regularizers.l1(l1=1e-5)))\n",
    "network4.add(layers.Dense(512, activation='relu', input_shape=(28 * 28,), kernel_regularizer=regularizers.l1(l1=1e-5)))\n",
    "network4.add(layers.Dense(512, activation='relu', input_shape=(28 * 28,), kernel_regularizer=regularizers.l1(l1=1e-5)))\n",
    "network4.add(layers.Dense(27, activation='softmax'))\n",
    "\n",
    "best_weights_path = '/content/drive/MyDrive/Colab/best_weights_2.hdf5'  # the path of storing the best weights\n",
    "early_stopping_2 = EarlyStopping(monitor='val_accuracy', patience=10, verbose=1, mode='auto') # early stoping, monitoring accuracy on validation set\n",
    "save_best_model_2 = ModelCheckpoint(best_weights_path, monitor='val_accuracy', verbose=1, save_best_only=True, mode='auto') # save the best model with best weights\n",
    "\n",
    "network4.compile(optimizer='rmsprop',\n",
    "                loss='categorical_crossentropy',\n",
    "                metrics=['accuracy'])\n",
    "\n",
    "network4.fit(train_images, train_labels, validation_data=(validate_images,validate_labels), callbacks=[early_stopping_2, save_best_model_2], epochs=50, batch_size=128)\n",
    "network4.load_weights(best_weights_path)"
   ]
  },
  {
   "cell_type": "markdown",
   "metadata": {
    "id": "WOuMXadVl4oy"
   },
   "source": [
    "We now set 3 hidden layers with each layer has 512 nodes. At epoch 12, the model got the best accuracy at 91.827%. The accuracy improved a little compared with Question 4."
   ]
  },
  {
   "cell_type": "code",
   "execution_count": 57,
   "metadata": {
    "colab": {
     "base_uri": "https://localhost:8080/"
    },
    "executionInfo": {
     "elapsed": 1767,
     "status": "ok",
     "timestamp": 1618288605992,
     "user": {
      "displayName": "SC Loong",
      "photoUrl": "",
      "userId": "05070573864239400190"
     },
     "user_tz": 420
    },
    "id": "G6Xnc5ewnMMH",
    "outputId": "f3dfbc61-9123-4c64-a889-cb676786759f"
   },
   "outputs": [
    {
     "name": "stdout",
     "output_type": "stream",
     "text": [
      "650/650 [==============================] - 2s 2ms/step - loss: 0.4399 - accuracy: 0.9139\n"
     ]
    }
   ],
   "source": [
    "test_loss, test_acc = network4.evaluate(test_images, test_labels)"
   ]
  },
  {
   "cell_type": "markdown",
   "metadata": {
    "id": "25gREyQRnwHK"
   },
   "source": [
    "    Question 6\n",
    "    \n",
    "    In question 2, we got an accuracy of 89.62%\n",
    "    In question 3, we got an accuracy of 90.38%\n",
    "    In question 4, we got an accuracy of 90.70%\n",
    "    \n",
    "    this shows that our accuracy increased in experiment 3 and 4 as compared to experiment 2"
   ]
  },
  {
   "cell_type": "code",
   "execution_count": 74,
   "metadata": {
    "colab": {
     "base_uri": "https://localhost:8080/",
     "height": 1000
    },
    "executionInfo": {
     "elapsed": 2176,
     "status": "ok",
     "timestamp": 1618291457019,
     "user": {
      "displayName": "SC Loong",
      "photoUrl": "",
      "userId": "05070573864239400190"
     },
     "user_tz": 420
    },
    "id": "Yn4juY2nn4-k",
    "outputId": "50cea9d2-3676-4db1-bcbb-f91984c72178"
   },
   "outputs": [
    {
     "name": "stdout",
     "output_type": "stream",
     "text": [
      "Wrong predict image 0\n"
     ]
    },
    {
     "data": {
      "image/png": "[encoded data removed]",
      "text/plain": [
       "<Figure size 432x288 with 1 Axes>"
      ]
     },
     "metadata": {
      "needs_background": "light",
      "tags": []
     },
     "output_type": "display_data"
    },
    {
     "name": "stdout",
     "output_type": "stream",
     "text": [
      "Wrong predict image 1\n"
     ]
    },
    {
     "data": {
      "image/png": "[encoded data removed]",
      "text/plain": [
       "<Figure size 432x288 with 1 Axes>"
      ]
     },
     "metadata": {
      "needs_background": "light",
      "tags": []
     },
     "output_type": "display_data"
    },
    {
     "name": "stdout",
     "output_type": "stream",
     "text": [
      "Wrong predict image 2\n"
     ]
    },
    {
     "data": {
      "image/png": "[encoded data removed]",
      "text/plain": [
       "<Figure size 432x288 with 1 Axes>"
      ]
     },
     "metadata": {
      "needs_background": "light",
      "tags": []
     },
     "output_type": "display_data"
    },
    {
     "name": "stdout",
     "output_type": "stream",
     "text": [
      "Wrong predict image 3\n"
     ]
    },
    {
     "data": {
      "image/png": "[encoded data removed]",
      "text/plain": [
       "<Figure size 432x288 with 1 Axes>"
      ]
     },
     "metadata": {
      "needs_background": "light",
      "tags": []
     },
     "output_type": "display_data"
    },
    {
     "name": "stdout",
     "output_type": "stream",
     "text": [
      "Wrong predict image 4\n"
     ]
    },
    {
     "data": {
      "image/png": "[encoded data removed]",
      "text/plain": [
       "<Figure size 432x288 with 1 Axes>"
      ]
     },
     "metadata": {
      "needs_background": "light",
      "tags": []
     },
     "output_type": "display_data"
    },
    {
     "name": "stdout",
     "output_type": "stream",
     "text": [
      "Wrong predict image 5\n"
     ]
    },
    {
     "data": {
      "image/png": "[encoded data removed]",
      "text/plain": [
       "<Figure size 432x288 with 1 Axes>"
      ]
     },
     "metadata": {
      "needs_background": "light",
      "tags": []
     },
     "output_type": "display_data"
    },
    {
     "name": "stdout",
     "output_type": "stream",
     "text": [
      "Wrong predict image 6\n"
     ]
    },
    {
     "data": {
      "image/png": "[encoded data removed]",
      "text/plain": [
       "<Figure size 432x288 with 1 Axes>"
      ]
     },
     "metadata": {
      "needs_background": "light",
      "tags": []
     },
     "output_type": "display_data"
    },
    {
     "name": "stdout",
     "output_type": "stream",
     "text": [
      "Wrong predict image 7\n"
     ]
    },
    {
     "data": {
      "image/png": "[encoded data removed]",
      "text/plain": [
       "<Figure size 432x288 with 1 Axes>"
      ]
     },
     "metadata": {
      "needs_background": "light",
      "tags": []
     },
     "output_type": "display_data"
    },
    {
     "name": "stdout",
     "output_type": "stream",
     "text": [
      "Wrong predict image 8\n"
     ]
    },
    {
     "data": {
      "image/png": "[encoded data removed]",
      "text/plain": [
       "<Figure size 432x288 with 1 Axes>"
      ]
     },
     "metadata": {
      "needs_background": "light",
      "tags": []
     },
     "output_type": "display_data"
    },
    {
     "name": "stdout",
     "output_type": "stream",
     "text": [
      "Wrong predict image 9\n"
     ]
    },
    {
     "data": {
      "image/png": "[encoded data removed]",
      "text/plain": [
       "<Figure size 432x288 with 1 Axes>"
      ]
     },
     "metadata": {
      "needs_background": "light",
      "tags": []
     },
     "output_type": "display_data"
    },
    {
     "name": "stdout",
     "output_type": "stream",
     "text": [
      "Wrong predict image 10\n"
     ]
    },
    {
     "data": {
      "image/png": "[encoded data removed]",
      "text/plain": [
       "<Figure size 432x288 with 1 Axes>"
      ]
     },
     "metadata": {
      "needs_background": "light",
      "tags": []
     },
     "output_type": "display_data"
    },
    {
     "name": "stdout",
     "output_type": "stream",
     "text": [
      "Wrong predict image 11\n"
     ]
    },
    {
     "data": {
      "image/png": "[encoded data removed]",
      "text/plain": [
       "<Figure size 432x288 with 1 Axes>"
      ]
     },
     "metadata": {
      "needs_background": "light",
      "tags": []
     },
     "output_type": "display_data"
    },
    {
     "name": "stdout",
     "output_type": "stream",
     "text": [
      "Wrong predict image 12\n"
     ]
    },
    {
     "data": {
      "image/png": "[encoded data removed]",
      "text/plain": [
       "<Figure size 432x288 with 1 Axes>"
      ]
     },
     "metadata": {
      "needs_background": "light",
      "tags": []
     },
     "output_type": "display_data"
    },
    {
     "name": "stdout",
     "output_type": "stream",
     "text": [
      "Wrong predict image 13\n"
     ]
    },
    {
     "data": {
      "image/png": "[encoded data removed]",
      "text/plain": [
       "<Figure size 432x288 with 1 Axes>"
      ]
     },
     "metadata": {
      "needs_background": "light",
      "tags": []
     },
     "output_type": "display_data"
    },
    {
     "name": "stdout",
     "output_type": "stream",
     "text": [
      "Wrong predict image 14\n"
     ]
    },
    {
     "data": {
      "image/png": "[encoded data removed]",
      "text/plain": [
       "<Figure size 432x288 with 1 Axes>"
      ]
     },
     "metadata": {
      "needs_background": "light",
      "tags": []
     },
     "output_type": "display_data"
    },
    {
     "name": "stdout",
     "output_type": "stream",
     "text": [
      "Wrong predict image 15\n"
     ]
    },
    {
     "data": {
      "image/png": "[encoded data removed]",
      "text/plain": [
       "<Figure size 432x288 with 1 Axes>"
      ]
     },
     "metadata": {
      "needs_background": "light",
      "tags": []
     },
     "output_type": "display_data"
    },
    {
     "name": "stdout",
     "output_type": "stream",
     "text": [
      "Wrong predict image 16\n"
     ]
    },
    {
     "data": {
      "image/png": "[encoded data removed]",
      "text/plain": [
       "<Figure size 432x288 with 1 Axes>"
      ]
     },
     "metadata": {
      "needs_background": "light",
      "tags": []
     },
     "output_type": "display_data"
    },
    {
     "name": "stdout",
     "output_type": "stream",
     "text": [
      "Wrong predict image 17\n"
     ]
    },
    {
     "data": {
      "image/png": "[encoded data removed]",
      "text/plain": [
       "<Figure size 432x288 with 1 Axes>"
      ]
     },
     "metadata": {
      "needs_background": "light",
      "tags": []
     },
     "output_type": "display_data"
    },
    {
     "name": "stdout",
     "output_type": "stream",
     "text": [
      "Wrong predict image 18\n"
     ]
    },
    {
     "data": {
      "image/png": "[encoded data removed]",
      "text/plain": [
       "<Figure size 432x288 with 1 Axes>"
      ]
     },
     "metadata": {
      "needs_background": "light",
      "tags": []
     },
     "output_type": "display_data"
    },
    {
     "name": "stdout",
     "output_type": "stream",
     "text": [
      "Wrong predict image 19\n"
     ]
    },
    {
     "data": {
      "image/png": "[encoded data removed]",
      "text/plain": [
       "<Figure size 432x288 with 1 Axes>"
      ]
     },
     "metadata": {
      "needs_background": "light",
      "tags": []
     },
     "output_type": "display_data"
    }
   ],
   "source": [
    "'''\n",
    "Step 7\n",
    "Output 20 wrong predict images, and discuss why\n",
    "'''\n",
    "\n",
    "pred = network4.predict(test_images)\n",
    "i = 0\n",
    "for j in range(len(pred)):\n",
    "  if np.argmax(pred[j]) != np.argmax(test_labels[j]) and i < 20:\n",
    "    print(\"Wrong predict image\", i)\n",
    "    i += 1\n",
    "    test_image = np.reshape(test_images[j], (28, 28))\n",
    "    plt.imshow(test_image) \n",
    "    plt.axis('off') \n",
    "    plt.show()"
   ]
  }
 ],
 "metadata": {
  "accelerator": "GPU",
  "colab": {
   "authorship_tag": "ABX9TyOojql0K5CPnEEAAxGiXAQ8",
   "collapsed_sections": [],
   "name": "Untitled0.ipynb",
   "provenance": [],
   "toc_visible": true
  },
  "kernelspec": {
   "display_name": "Python 3",
   "language": "python",
   "name": "python3"
  },
  "language_info": {
   "codemirror_mode": {
    "name": "ipython",
    "version": 3
   },
   "file_extension": ".py",
   "mimetype": "text/x-python",
   "name": "python",
   "nbconvert_exporter": "python",
   "pygments_lexer": "ipython3",
   "version": "3.8.5"
  }
 },
 "nbformat": 4,
 "nbformat_minor": 1
}
