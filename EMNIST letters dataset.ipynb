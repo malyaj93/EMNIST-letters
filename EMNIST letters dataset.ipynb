{
 "cells": [
  {
   "cell_type": "markdown",
   "metadata": {
    "id": "e9R3YcjKbPHx"
   },
   "source": [
    "### CPSC 585 project5\n",
    "\n",
    "    Sicheng Long          xlongx@cus.fullerton.edu      887447837\n",
    "    Malyaj Sirothia       malyaj93@csu.fullerton.edu    886687508"
   ]
  },
  {
   "cell_type": "code",
   "execution_count": 2,
   "metadata": {
    "colab": {
     "base_uri": "https://localhost:8080/"
    },
    "executionInfo": {
     "elapsed": 28090,
     "status": "ok",
     "timestamp": 1618375334884,
     "user": {
      "displayName": "SC Loong",
      "photoUrl": "",
      "userId": "05070573864239400190"
     },
     "user_tz": 420
    },
    "id": "dUYSBYDbqCE8",
    "outputId": "b544bef2-bf05-4448-c166-c21b6be6f05b"
   },
   "outputs": [
    {
     "name": "stdout",
     "output_type": "stream",
     "text": [
      "Mounted at /content/drive\n"
     ]
    }
   ],
   "source": [
    "'''\n",
    "mount google drive\n",
    "'''\n",
    "\n",
    "from google.colab import drive\n",
    "drive.mount('/content/drive')"
   ]
  },
  {
   "cell_type": "code",
   "execution_count": 3,
   "metadata": {
    "colab": {
     "base_uri": "https://localhost:8080/",
     "height": 1000
    },
    "executionInfo": {
     "elapsed": 6252,
     "status": "ok",
     "timestamp": 1618375444845,
     "user": {
      "displayName": "SC Loong",
      "photoUrl": "",
      "userId": "05070573864239400190"
     },
     "user_tz": 420
    },
    "id": "7S6yX50fsALV",
    "outputId": "2922a591-3b7d-4d0c-b0f8-fc5f2ccc83b8"
   },
   "outputs": [
    {
     "data": {
      "image/png": "[encoded data removed]",
      "text/plain": [
       "<Figure size 432x288 with 1 Axes>"
      ]
     },
     "metadata": {
      "needs_background": "light",
      "tags": []
     },
     "output_type": "display_data"
    },
    {
     "data": {
      "image/png": "[encoded data removed]",
      "text/plain": [
       "<Figure size 432x288 with 1 Axes>"
      ]
     },
     "metadata": {
      "needs_background": "light",
      "tags": []
     },
     "output_type": "display_data"
    },
    {
     "data": {
      "image/png": "[encoded data removed]",
      "text/plain": [
       "<Figure size 432x288 with 1 Axes>"
      ]
     },
     "metadata": {
      "needs_background": "light",
      "tags": []
     },
     "output_type": "display_data"
    },
    {
     "data": {
      "image/png": "[encoded data removed]",
      "text/plain": [
       "<Figure size 432x288 with 1 Axes>"
      ]
     },
     "metadata": {
      "needs_background": "light",
      "tags": []
     },
     "output_type": "display_data"
    },
    {
     "data": {
      "image/png": "[encoded data removed]",
      "text/plain": [
       "<Figure size 432x288 with 1 Axes>"
      ]
     },
     "metadata": {
      "needs_background": "light",
      "tags": []
     },
     "output_type": "display_data"
    },
    {
     "data": {
      "image/png": "[encoded data removed]",
      "text/plain": [
       "<Figure size 432x288 with 1 Axes>"
      ]
     },
     "metadata": {
      "needs_background": "light",
      "tags": []
     },
     "output_type": "display_data"
    },
    {
     "data": {
      "image/png": "[encoded data removed]",
      "text/plain": [
       "<Figure size 432x288 with 1 Axes>"
      ]
     },
     "metadata": {
      "needs_background": "light",
      "tags": []
     },
     "output_type": "display_data"
    },
    {
     "data": {
      "image/png": "[encoded data removed]",
      "text/plain": [
       "<Figure size 432x288 with 1 Axes>"
      ]
     },
     "metadata": {
      "needs_background": "light",
      "tags": []
     },
     "output_type": "display_data"
    },
    {
     "data": {
      "image/png": "[encoded data removed]",
      "text/plain": [
       "<Figure size 432x288 with 1 Axes>"
      ]
     },
     "metadata": {
      "needs_background": "light",
      "tags": []
     },
     "output_type": "display_data"
    },
    {
     "name": "stdout",
     "output_type": "stream",
     "text": [
      "Shape of train set: (104000, 784)\n",
      "Shape of train label: (104000, 27)\n",
      "Shape of test set: (20800, 784)\n",
      "Shape of test label: (20800, 27)\n",
      "Shape of validate set: (20800, 784)\n",
      "Shape of validate label: (20800, 27)\n"
     ]
    }
   ],
   "source": [
    "'''\n",
    "Step 1\n",
    "Load emnist_letters.npz, and output some of the images\n",
    "'''\n",
    "\n",
    "import numpy as np\n",
    "import matplotlib.pyplot as plt\n",
    "\n",
    "data = np.load('/content/drive/MyDrive/Colab/emnist_letters.npz') # load the file emnist_letters.npz from google driver\n",
    "# 6 sets of the data\n",
    "test_images = data['test_images']\n",
    "test_labels = data['test_labels']\n",
    "train_images = data['train_images']\n",
    "train_labels = data['train_labels']\n",
    "validate_images = data['validate_images']\n",
    "validate_labels = data['validate_labels']\n",
    "\n",
    "# output 9 images\n",
    "train1 = np.reshape(train_images[0], (28, 28))\n",
    "test1 = np.reshape(test_images[0], (28, 28))\n",
    "validate1 = np.reshape(validate_images[0], (28, 28))\n",
    "train2 = np.reshape(train_images[103999], (28, 28))\n",
    "test2 = np.reshape(test_images[20799], (28, 28))\n",
    "validate2 = np.reshape(validate_images[20799], (28, 28))\n",
    "train3 = np.reshape(train_images[10000], (28, 28))\n",
    "test3 = np.reshape(test_images[10000], (28, 28))\n",
    "validate3 = np.reshape(validate_images[10000], (28, 28))\n",
    "L = [train1, train2, train3, test1, test2, test3, validate1, validate2, validate3]\n",
    "for item in L:\n",
    "  plt.imshow(item) \n",
    "  plt.axis('off') \n",
    "  plt.show()\n",
    "\n",
    "# show the shape of every set    \n",
    "print(\"Shape of train set:\", train_images.shape)\n",
    "print(\"Shape of train label:\", train_labels.shape)\n",
    "print(\"Shape of test set:\", test_images.shape)\n",
    "print(\"Shape of test label:\", test_labels.shape)\n",
    "print(\"Shape of validate set:\", validate_images.shape)\n",
    "print(\"Shape of validate label:\", validate_labels.shape)"
   ]
  },
  {
   "cell_type": "code",
   "execution_count": 5,
   "metadata": {
    "colab": {
     "base_uri": "https://localhost:8080/"
    },
    "executionInfo": {
     "elapsed": 23295,
     "status": "ok",
     "timestamp": 1618375511491,
     "user": {
      "displayName": "SC Loong",
      "photoUrl": "",
      "userId": "05070573864239400190"
     },
     "user_tz": 420
    },
    "id": "9kT8QqFasezj",
    "outputId": "9f131071-8c84-41fc-90b5-f7b72ef6e5e0"
   },
   "outputs": [
    {
     "name": "stdout",
     "output_type": "stream",
     "text": [
      "Epoch 1/5\n",
      "813/813 [==============================] - 4s 5ms/step - loss: 1.0786 - accuracy: 0.6892 - val_loss: 0.5188 - val_accuracy: 0.8425\n",
      "Epoch 2/5\n",
      "813/813 [==============================] - 4s 4ms/step - loss: 0.3989 - accuracy: 0.8762 - val_loss: 0.4010 - val_accuracy: 0.8763\n",
      "Epoch 3/5\n",
      "813/813 [==============================] - 4s 5ms/step - loss: 0.3017 - accuracy: 0.9038 - val_loss: 0.3423 - val_accuracy: 0.8961\n",
      "Epoch 4/5\n",
      "813/813 [==============================] - 4s 4ms/step - loss: 0.2576 - accuracy: 0.9169 - val_loss: 0.3343 - val_accuracy: 0.8995\n",
      "Epoch 5/5\n",
      "813/813 [==============================] - 4s 5ms/step - loss: 0.2269 - accuracy: 0.9253 - val_loss: 0.3347 - val_accuracy: 0.8998\n",
      "650/650 [==============================] - 2s 3ms/step - loss: 0.3378 - accuracy: 0.8989\n",
      "650/650 [==============================] - 2s 3ms/step - loss: 0.3347 - accuracy: 0.8998\n",
      "test_acc----->> 0.8988942503929138\n",
      "Validate_acc---------->> 0.8997595906257629\n"
     ]
    }
   ],
   "source": [
    "'''\n",
    "Step 2\n",
    "Applying Chollet’s MNIST notebook to the EMNIST Letters data\n",
    "\n",
    "After applying the same architecture as MNIST to the EMINST letter data we are getting comparetively lesser accuracy.\n",
    "'''\n",
    "\n",
    "from keras import models\n",
    "from keras import layers\n",
    "\n",
    "train_images = train_images.reshape((104000, 28 * 28))\n",
    "test_images = test_images.reshape((20800, 28 * 28))\n",
    "validate_images = validate_images.reshape((20800, 28 * 28))\n",
    "\n",
    "network1 = models.Sequential()\n",
    "network1.add(layers.Dense(512, activation='relu', input_shape=(28 * 28,)))\n",
    "network1.add(layers.Dense(27, activation='softmax'))\n",
    "\n",
    "\n",
    "network1.compile(optimizer='rmsprop',\n",
    "                loss='categorical_crossentropy',\n",
    "                metrics=['accuracy'])\n",
    "\n",
    "network1.fit(train_images, train_labels, validation_data=(validate_images,validate_labels), epochs=5, batch_size=128)\n",
    "\n",
    "test_loss, test_acc = network1.evaluate(test_images, test_labels)\n",
    "validate_loss, validate_acc = network1.evaluate(validate_images, validate_labels)\n",
    "print('test_acc----->>', test_acc)\n",
    "print('Validate_acc---------->>', validate_acc)\n"
   ]
  },
  {
   "cell_type": "code",
   "execution_count": 9,
   "metadata": {
    "colab": {
     "base_uri": "https://localhost:8080/"
    },
    "executionInfo": {
     "elapsed": 249458,
     "status": "ok",
     "timestamp": 1618376231589,
     "user": {
      "displayName": "SC Loong",
      "photoUrl": "",
      "userId": "05070573864239400190"
     },
     "user_tz": 420
    },
    "id": "fhFTQ5onsiSk",
    "outputId": "675fb584-519a-467d-b5b3-dc04473f0c80"
   },
   "outputs": [
    {
     "name": "stdout",
     "output_type": "stream",
     "text": [
      "Epoch 1/50\n",
      "813/813 [==============================] - 5s 6ms/step - loss: 0.9352 - accuracy: 0.7241 - val_loss: 0.4090 - val_accuracy: 0.8748\n",
      "Epoch 2/50\n",
      "813/813 [==============================] - 5s 6ms/step - loss: 0.3224 - accuracy: 0.8961 - val_loss: 0.3825 - val_accuracy: 0.8799\n",
      "Epoch 3/50\n",
      "813/813 [==============================] - 5s 6ms/step - loss: 0.2477 - accuracy: 0.9191 - val_loss: 0.3201 - val_accuracy: 0.9034\n",
      "Epoch 4/50\n",
      "813/813 [==============================] - 5s 6ms/step - loss: 0.2017 - accuracy: 0.9310 - val_loss: 0.3164 - val_accuracy: 0.9086\n",
      "Epoch 5/50\n",
      "813/813 [==============================] - 5s 6ms/step - loss: 0.1734 - accuracy: 0.9401 - val_loss: 0.3528 - val_accuracy: 0.8992\n",
      "Epoch 6/50\n",
      "813/813 [==============================] - 5s 6ms/step - loss: 0.1560 - accuracy: 0.9461 - val_loss: 0.3714 - val_accuracy: 0.8984\n",
      "Epoch 7/50\n",
      "813/813 [==============================] - 5s 6ms/step - loss: 0.1429 - accuracy: 0.9491 - val_loss: 0.3693 - val_accuracy: 0.9083\n",
      "Epoch 8/50\n",
      "813/813 [==============================] - 5s 6ms/step - loss: 0.1244 - accuracy: 0.9550 - val_loss: 0.3790 - val_accuracy: 0.9104\n",
      "Epoch 9/50\n",
      "813/813 [==============================] - 5s 6ms/step - loss: 0.1146 - accuracy: 0.9581 - val_loss: 0.4058 - val_accuracy: 0.9087\n",
      "Epoch 10/50\n",
      "813/813 [==============================] - 5s 6ms/step - loss: 0.1075 - accuracy: 0.9613 - val_loss: 0.4176 - val_accuracy: 0.9080\n",
      "Epoch 11/50\n",
      "813/813 [==============================] - 5s 6ms/step - loss: 0.1001 - accuracy: 0.9622 - val_loss: 0.4213 - val_accuracy: 0.9090\n",
      "Epoch 12/50\n",
      "813/813 [==============================] - 5s 6ms/step - loss: 0.0937 - accuracy: 0.9649 - val_loss: 0.4797 - val_accuracy: 0.9055\n",
      "Epoch 13/50\n",
      "813/813 [==============================] - 5s 6ms/step - loss: 0.0874 - accuracy: 0.9671 - val_loss: 0.4763 - val_accuracy: 0.9082\n",
      "Epoch 14/50\n",
      "813/813 [==============================] - 5s 6ms/step - loss: 0.0856 - accuracy: 0.9667 - val_loss: 0.4956 - val_accuracy: 0.9052\n",
      "Epoch 15/50\n",
      "813/813 [==============================] - 5s 6ms/step - loss: 0.0795 - accuracy: 0.9690 - val_loss: 0.5191 - val_accuracy: 0.9072\n",
      "Epoch 16/50\n",
      "813/813 [==============================] - 5s 6ms/step - loss: 0.0765 - accuracy: 0.9706 - val_loss: 0.5248 - val_accuracy: 0.9074\n",
      "Epoch 17/50\n",
      "813/813 [==============================] - 5s 6ms/step - loss: 0.0736 - accuracy: 0.9708 - val_loss: 0.5456 - val_accuracy: 0.9062\n",
      "Epoch 18/50\n",
      "813/813 [==============================] - 5s 6ms/step - loss: 0.0689 - accuracy: 0.9728 - val_loss: 0.5674 - val_accuracy: 0.9071\n",
      "Epoch 19/50\n",
      "813/813 [==============================] - 5s 6ms/step - loss: 0.0697 - accuracy: 0.9721 - val_loss: 0.6107 - val_accuracy: 0.9038\n",
      "Epoch 20/50\n",
      "813/813 [==============================] - 5s 6ms/step - loss: 0.0662 - accuracy: 0.9738 - val_loss: 0.6134 - val_accuracy: 0.9063\n",
      "Epoch 21/50\n",
      "813/813 [==============================] - 5s 6ms/step - loss: 0.0609 - accuracy: 0.9758 - val_loss: 0.5990 - val_accuracy: 0.9091\n",
      "Epoch 22/50\n",
      "813/813 [==============================] - 5s 6ms/step - loss: 0.0634 - accuracy: 0.9750 - val_loss: 0.6426 - val_accuracy: 0.9048\n",
      "Epoch 23/50\n",
      "813/813 [==============================] - 5s 6ms/step - loss: 0.0581 - accuracy: 0.9764 - val_loss: 0.6627 - val_accuracy: 0.9040\n",
      "Epoch 24/50\n",
      "813/813 [==============================] - 5s 6ms/step - loss: 0.0590 - accuracy: 0.9765 - val_loss: 0.6765 - val_accuracy: 0.9086\n",
      "Epoch 25/50\n",
      "813/813 [==============================] - 5s 6ms/step - loss: 0.0560 - accuracy: 0.9779 - val_loss: 0.7093 - val_accuracy: 0.9042\n",
      "Epoch 26/50\n",
      "813/813 [==============================] - 5s 6ms/step - loss: 0.0565 - accuracy: 0.9769 - val_loss: 0.6798 - val_accuracy: 0.9094\n",
      "Epoch 27/50\n",
      "813/813 [==============================] - 5s 6ms/step - loss: 0.0526 - accuracy: 0.9795 - val_loss: 0.7291 - val_accuracy: 0.9027\n",
      "Epoch 28/50\n",
      "813/813 [==============================] - 5s 6ms/step - loss: 0.0538 - accuracy: 0.9786 - val_loss: 0.7393 - val_accuracy: 0.9067\n",
      "Epoch 29/50\n",
      "813/813 [==============================] - 5s 6ms/step - loss: 0.0531 - accuracy: 0.9791 - val_loss: 0.7362 - val_accuracy: 0.9065\n",
      "Epoch 30/50\n",
      "813/813 [==============================] - 5s 6ms/step - loss: 0.0523 - accuracy: 0.9796 - val_loss: 0.7773 - val_accuracy: 0.9109\n",
      "Epoch 31/50\n",
      "813/813 [==============================] - 5s 6ms/step - loss: 0.0513 - accuracy: 0.9799 - val_loss: 0.7987 - val_accuracy: 0.9072\n",
      "Epoch 32/50\n",
      "813/813 [==============================] - 5s 6ms/step - loss: 0.0513 - accuracy: 0.9793 - val_loss: 0.8116 - val_accuracy: 0.9047\n",
      "Epoch 33/50\n",
      "813/813 [==============================] - 5s 6ms/step - loss: 0.0512 - accuracy: 0.9798 - val_loss: 0.7974 - val_accuracy: 0.9098\n",
      "Epoch 34/50\n",
      "813/813 [==============================] - 5s 6ms/step - loss: 0.0477 - accuracy: 0.9811 - val_loss: 0.8204 - val_accuracy: 0.9091\n",
      "Epoch 35/50\n",
      "813/813 [==============================] - 5s 6ms/step - loss: 0.0479 - accuracy: 0.9814 - val_loss: 0.8398 - val_accuracy: 0.9055\n",
      "Epoch 36/50\n",
      "813/813 [==============================] - 5s 6ms/step - loss: 0.0473 - accuracy: 0.9808 - val_loss: 0.8756 - val_accuracy: 0.9085\n",
      "Epoch 37/50\n",
      "813/813 [==============================] - 5s 6ms/step - loss: 0.0469 - accuracy: 0.9812 - val_loss: 0.9032 - val_accuracy: 0.9033\n",
      "Epoch 38/50\n",
      "813/813 [==============================] - 5s 6ms/step - loss: 0.0463 - accuracy: 0.9818 - val_loss: 0.8951 - val_accuracy: 0.9049\n",
      "Epoch 39/50\n",
      "813/813 [==============================] - 5s 6ms/step - loss: 0.0446 - accuracy: 0.9823 - val_loss: 0.9303 - val_accuracy: 0.9039\n",
      "Epoch 40/50\n",
      "813/813 [==============================] - 5s 6ms/step - loss: 0.0477 - accuracy: 0.9822 - val_loss: 0.9413 - val_accuracy: 0.9068\n",
      "Epoch 41/50\n",
      "813/813 [==============================] - 5s 6ms/step - loss: 0.0454 - accuracy: 0.9830 - val_loss: 0.9417 - val_accuracy: 0.9041\n",
      "Epoch 42/50\n",
      "813/813 [==============================] - 5s 6ms/step - loss: 0.0455 - accuracy: 0.9819 - val_loss: 0.9687 - val_accuracy: 0.9062\n",
      "Epoch 43/50\n",
      "813/813 [==============================] - 5s 6ms/step - loss: 0.0441 - accuracy: 0.9827 - val_loss: 0.9591 - val_accuracy: 0.9067\n",
      "Epoch 44/50\n",
      "813/813 [==============================] - 5s 6ms/step - loss: 0.0430 - accuracy: 0.9834 - val_loss: 0.9753 - val_accuracy: 0.9058\n",
      "Epoch 45/50\n",
      "813/813 [==============================] - 5s 6ms/step - loss: 0.0440 - accuracy: 0.9831 - val_loss: 0.9773 - val_accuracy: 0.9081\n",
      "Epoch 46/50\n",
      "813/813 [==============================] - 5s 6ms/step - loss: 0.0418 - accuracy: 0.9838 - val_loss: 1.0292 - val_accuracy: 0.9059\n",
      "Epoch 47/50\n",
      "813/813 [==============================] - 5s 6ms/step - loss: 0.0410 - accuracy: 0.9846 - val_loss: 0.9782 - val_accuracy: 0.9091\n",
      "Epoch 48/50\n",
      "813/813 [==============================] - 5s 6ms/step - loss: 0.0389 - accuracy: 0.9852 - val_loss: 1.0093 - val_accuracy: 0.9045\n",
      "Epoch 49/50\n",
      "813/813 [==============================] - 5s 6ms/step - loss: 0.0392 - accuracy: 0.9849 - val_loss: 1.0105 - val_accuracy: 0.9068\n",
      "Epoch 50/50\n",
      "813/813 [==============================] - 5s 6ms/step - loss: 0.0400 - accuracy: 0.9843 - val_loss: 1.0549 - val_accuracy: 0.9081\n"
     ]
    },
    {
     "data": {
      "text/plain": [
       "<tensorflow.python.keras.callbacks.History at 0x7f2dc93a6610>"
      ]
     },
     "execution_count": 9,
     "metadata": {
      "tags": []
     },
     "output_type": "execute_result"
    }
   ],
   "source": [
    "'''\n",
    "Step 3\n",
    "Keep the same number of layers in the network\n",
    "Modify the architecture to improve the accuracy\n",
    "Name this new model as \"network2\"\n",
    "'''\n",
    "\n",
    "network2 = models.Sequential()\n",
    "network2.add(layers.Dense(2048, activation='relu', input_shape=(28 * 28,)))  # add more nodes in this hidden layer\n",
    "network2.add(layers.Dense(27, activation='softmax'))\n",
    "\n",
    "network2.compile(optimizer='rmsprop',\n",
    "                loss='categorical_crossentropy',\n",
    "                metrics=['accuracy'])\n",
    "\n",
    "# add validation set in the training process\n",
    "network2 .fit(train_images, train_labels, validation_data=(validate_images,validate_labels), epochs=50, batch_size=128)"
   ]
  },
  {
   "cell_type": "markdown",
   "metadata": {
    "id": "eIWpZvCWLrJs"
   },
   "source": [
    "We test for several values of nodes number in the hidden layer, like 512, 768, 1024, and 2048. We found 2048 might have the best accuracy on validation set.  \n",
    "In step 3, we set the number of epoch to 50. From the result, we can find that the loss of validation set have the lowest loss value at about epoch 20 to 30, so we can use early stop to upgrade our accuracy. The overall accuray of the validation set is much better than question 2."
   ]
  },
  {
   "cell_type": "code",
   "execution_count": 10,
   "metadata": {
    "colab": {
     "base_uri": "https://localhost:8080/"
    },
    "executionInfo": {
     "elapsed": 2412,
     "status": "ok",
     "timestamp": 1618376237979,
     "user": {
      "displayName": "SC Loong",
      "photoUrl": "",
      "userId": "05070573864239400190"
     },
     "user_tz": 420
    },
    "id": "3Wrc8w-MuyAf",
    "outputId": "79730275-37da-498b-cf4e-e797ea5c945f"
   },
   "outputs": [
    {
     "name": "stdout",
     "output_type": "stream",
     "text": [
      "650/650 [==============================] - 2s 3ms/step - loss: 1.1067 - accuracy: 0.9067\n"
     ]
    }
   ],
   "source": [
    "test_loss, test_acc = network2.evaluate(test_images, test_labels)"
   ]
  },
  {
   "cell_type": "markdown",
   "metadata": {
    "id": "XdDNVHzDLRGZ"
   },
   "source": [
    "The accuracy of test set applying for network2, 90.38%"
   ]
  },
  {
   "cell_type": "code",
   "execution_count": 11,
   "metadata": {
    "colab": {
     "base_uri": "https://localhost:8080/"
    },
    "executionInfo": {
     "elapsed": 111517,
     "status": "ok",
     "timestamp": 1618376353466,
     "user": {
      "displayName": "SC Loong",
      "photoUrl": "",
      "userId": "05070573864239400190"
     },
     "user_tz": 420
    },
    "id": "Dp2OGI-VLh5r",
    "outputId": "06b3f891-b3e7-4b9d-8912-e56bab63641b"
   },
   "outputs": [
    {
     "name": "stdout",
     "output_type": "stream",
     "text": [
      "Epoch 1/50\n",
      "813/813 [==============================] - 6s 7ms/step - loss: 1.2025 - accuracy: 0.7249 - val_loss: 0.6634 - val_accuracy: 0.8603\n",
      "\n",
      "Epoch 00001: val_accuracy improved from -inf to 0.86029, saving model to /content/drive/MyDrive/Colab/best_weights.hdf5\n",
      "Epoch 2/50\n",
      "813/813 [==============================] - 5s 6ms/step - loss: 0.5758 - accuracy: 0.8854 - val_loss: 0.5516 - val_accuracy: 0.8887\n",
      "\n",
      "Epoch 00002: val_accuracy improved from 0.86029 to 0.88870, saving model to /content/drive/MyDrive/Colab/best_weights.hdf5\n",
      "Epoch 3/50\n",
      "813/813 [==============================] - 5s 6ms/step - loss: 0.4903 - accuracy: 0.9007 - val_loss: 0.5172 - val_accuracy: 0.8956\n",
      "\n",
      "Epoch 00003: val_accuracy improved from 0.88870 to 0.89558, saving model to /content/drive/MyDrive/Colab/best_weights.hdf5\n",
      "Epoch 4/50\n",
      "813/813 [==============================] - 5s 6ms/step - loss: 0.4412 - accuracy: 0.9110 - val_loss: 0.5360 - val_accuracy: 0.8860\n",
      "\n",
      "Epoch 00004: val_accuracy did not improve from 0.89558\n",
      "Epoch 5/50\n",
      "813/813 [==============================] - 5s 6ms/step - loss: 0.4124 - accuracy: 0.9171 - val_loss: 0.5358 - val_accuracy: 0.8845\n",
      "\n",
      "Epoch 00005: val_accuracy did not improve from 0.89558\n",
      "Epoch 6/50\n",
      "813/813 [==============================] - 5s 6ms/step - loss: 0.3906 - accuracy: 0.9226 - val_loss: 0.4780 - val_accuracy: 0.8994\n",
      "\n",
      "Epoch 00006: val_accuracy improved from 0.89558 to 0.89942, saving model to /content/drive/MyDrive/Colab/best_weights.hdf5\n",
      "Epoch 7/50\n",
      "813/813 [==============================] - 5s 6ms/step - loss: 0.3763 - accuracy: 0.9245 - val_loss: 0.4740 - val_accuracy: 0.8983\n",
      "\n",
      "Epoch 00007: val_accuracy did not improve from 0.89942\n",
      "Epoch 8/50\n",
      "813/813 [==============================] - 5s 6ms/step - loss: 0.3573 - accuracy: 0.9279 - val_loss: 0.4820 - val_accuracy: 0.8987\n",
      "\n",
      "Epoch 00008: val_accuracy did not improve from 0.89942\n",
      "Epoch 9/50\n",
      "813/813 [==============================] - 5s 6ms/step - loss: 0.3405 - accuracy: 0.9313 - val_loss: 0.4871 - val_accuracy: 0.8926\n",
      "\n",
      "Epoch 00009: val_accuracy did not improve from 0.89942\n",
      "Epoch 10/50\n",
      "813/813 [==============================] - 5s 6ms/step - loss: 0.3340 - accuracy: 0.9318 - val_loss: 0.4640 - val_accuracy: 0.9018\n",
      "\n",
      "Epoch 00010: val_accuracy improved from 0.89942 to 0.90178, saving model to /content/drive/MyDrive/Colab/best_weights.hdf5\n",
      "Epoch 11/50\n",
      "813/813 [==============================] - 5s 6ms/step - loss: 0.3217 - accuracy: 0.9349 - val_loss: 0.4394 - val_accuracy: 0.9107\n",
      "\n",
      "Epoch 00011: val_accuracy improved from 0.90178 to 0.91072, saving model to /content/drive/MyDrive/Colab/best_weights.hdf5\n",
      "Epoch 12/50\n",
      "813/813 [==============================] - 5s 6ms/step - loss: 0.3145 - accuracy: 0.9362 - val_loss: 0.4657 - val_accuracy: 0.9023\n",
      "\n",
      "Epoch 00012: val_accuracy did not improve from 0.91072\n",
      "Epoch 13/50\n",
      "813/813 [==============================] - 5s 6ms/step - loss: 0.3071 - accuracy: 0.9383 - val_loss: 0.4556 - val_accuracy: 0.9062\n",
      "\n",
      "Epoch 00013: val_accuracy did not improve from 0.91072\n",
      "Epoch 14/50\n",
      "813/813 [==============================] - 5s 6ms/step - loss: 0.2977 - accuracy: 0.9406 - val_loss: 0.4454 - val_accuracy: 0.9090\n",
      "\n",
      "Epoch 00014: val_accuracy did not improve from 0.91072\n",
      "Epoch 15/50\n",
      "813/813 [==============================] - 5s 6ms/step - loss: 0.2912 - accuracy: 0.9419 - val_loss: 0.4623 - val_accuracy: 0.9065\n",
      "\n",
      "Epoch 00015: val_accuracy did not improve from 0.91072\n",
      "Epoch 16/50\n",
      "813/813 [==============================] - 5s 6ms/step - loss: 0.2851 - accuracy: 0.9436 - val_loss: 0.4650 - val_accuracy: 0.9044\n",
      "\n",
      "Epoch 00016: val_accuracy did not improve from 0.91072\n",
      "Epoch 17/50\n",
      "813/813 [==============================] - 5s 6ms/step - loss: 0.2817 - accuracy: 0.9444 - val_loss: 0.4755 - val_accuracy: 0.9031\n",
      "\n",
      "Epoch 00017: val_accuracy did not improve from 0.91072\n",
      "Epoch 18/50\n",
      "813/813 [==============================] - 5s 6ms/step - loss: 0.2766 - accuracy: 0.9457 - val_loss: 0.4515 - val_accuracy: 0.9084\n",
      "\n",
      "Epoch 00018: val_accuracy did not improve from 0.91072\n",
      "Epoch 19/50\n",
      "813/813 [==============================] - 5s 6ms/step - loss: 0.2747 - accuracy: 0.9455 - val_loss: 0.4679 - val_accuracy: 0.9042\n",
      "\n",
      "Epoch 00019: val_accuracy did not improve from 0.91072\n",
      "Epoch 20/50\n",
      "813/813 [==============================] - 5s 6ms/step - loss: 0.2704 - accuracy: 0.9464 - val_loss: 0.4839 - val_accuracy: 0.9010\n",
      "\n",
      "Epoch 00020: val_accuracy did not improve from 0.91072\n",
      "Epoch 21/50\n",
      "813/813 [==============================] - 5s 6ms/step - loss: 0.2682 - accuracy: 0.9472 - val_loss: 0.4577 - val_accuracy: 0.9065\n",
      "\n",
      "Epoch 00021: val_accuracy did not improve from 0.91072\n",
      "Epoch 00021: early stopping\n"
     ]
    }
   ],
   "source": [
    "'''\n",
    "Step 4\n",
    "Based on step 3, we make another model \"network3\".\n",
    "Trying to get a higher accuracy on validation set of network3\n",
    "'''\n",
    "\n",
    "from keras.callbacks import EarlyStopping, ModelCheckpoint\n",
    "from keras import regularizers\n",
    "#from keras.layers import Dropout\n",
    "\n",
    "network3 = models.Sequential()\n",
    "network3.add(layers.Dense(2048, activation='relu', input_shape=(28 * 28,), kernel_regularizer=regularizers.l1(l1=1e-5)))  # deleted: , kernel_regularizer=regularizers.l1(l1=1e-5)\n",
    "#network3.add(Dropout(0.2))\n",
    "network3.add(layers.Dense(27, activation='softmax'))\n",
    "\n",
    "best_weights_path = '/content/drive/MyDrive/Colab/best_weights.hdf5'  # the path of storing the best weights\n",
    "early_stopping = EarlyStopping(monitor='val_accuracy', patience=10, verbose=1, mode='auto') # early stoping, monitoring accuracy on validation set\n",
    "save_best_model = ModelCheckpoint(best_weights_path, monitor='val_accuracy', verbose=1, save_best_only=True, mode='auto') # save the best model with best weights\n",
    "\n",
    "network3.compile(optimizer='rmsprop',\n",
    "                loss='categorical_crossentropy',\n",
    "                metrics=['accuracy'])\n",
    "\n",
    "network3.fit(train_images, train_labels, validation_data=(validate_images,validate_labels), callbacks=[early_stopping, save_best_model], epochs=50, batch_size=128)\n",
    "network3.load_weights(best_weights_path)"
   ]
  },
  {
   "cell_type": "markdown",
   "metadata": {
    "id": "3enJGBVPNS8j"
   },
   "source": [
    "We use early stop and regulariztion to get a better accuracy. At epoch 15, the model got the best accuracy at 91.077%.  \n",
    "We also test for several activation functions in the hidden layer, leaky RELU, PRELU, and tanh. The best accuracy on validation set is RELU.  \n",
    "We also tried Dropout, but could not get a better accuracy."
   ]
  },
  {
   "cell_type": "code",
   "execution_count": 12,
   "metadata": {
    "colab": {
     "base_uri": "https://localhost:8080/"
    },
    "executionInfo": {
     "elapsed": 2639,
     "status": "ok",
     "timestamp": 1618376392028,
     "user": {
      "displayName": "SC Loong",
      "photoUrl": "",
      "userId": "05070573864239400190"
     },
     "user_tz": 420
    },
    "id": "wXtFiTSBUGua",
    "outputId": "3559d87f-54c9-4d72-9870-487b0fb367a8"
   },
   "outputs": [
    {
     "name": "stdout",
     "output_type": "stream",
     "text": [
      "650/650 [==============================] - 2s 3ms/step - loss: 0.4423 - accuracy: 0.9094\n"
     ]
    }
   ],
   "source": [
    "test_loss, test_acc = network3.evaluate(test_images, test_labels)"
   ]
  },
  {
   "cell_type": "markdown",
   "metadata": {
    "id": "cN1ZwShhabxG"
   },
   "source": [
    "There is an improvment about the accuracy on test set, improved about more than 0.3%."
   ]
  },
  {
   "cell_type": "code",
   "execution_count": 16,
   "metadata": {
    "colab": {
     "base_uri": "https://localhost:8080/"
    },
    "executionInfo": {
     "elapsed": 114495,
     "status": "ok",
     "timestamp": 1618376941804,
     "user": {
      "displayName": "SC Loong",
      "photoUrl": "",
      "userId": "05070573864239400190"
     },
     "user_tz": 420
    },
    "id": "iRU2qpRbbGyf",
    "outputId": "2a89bf9c-2c1c-433b-e4c2-45b5b120300f"
   },
   "outputs": [
    {
     "name": "stdout",
     "output_type": "stream",
     "text": [
      "Epoch 1/50\n",
      "813/813 [==============================] - 6s 7ms/step - loss: 1.2797 - accuracy: 0.7027 - val_loss: 0.6463 - val_accuracy: 0.8798\n",
      "\n",
      "Epoch 00001: val_accuracy improved from -inf to 0.87976, saving model to /content/drive/MyDrive/Colab/best_weights_2.hdf5\n",
      "Epoch 2/50\n",
      "813/813 [==============================] - 5s 7ms/step - loss: 0.5910 - accuracy: 0.8910 - val_loss: 0.5957 - val_accuracy: 0.8851\n",
      "\n",
      "Epoch 00002: val_accuracy improved from 0.87976 to 0.88510, saving model to /content/drive/MyDrive/Colab/best_weights_2.hdf5\n",
      "Epoch 3/50\n",
      "813/813 [==============================] - 5s 7ms/step - loss: 0.4959 - accuracy: 0.9092 - val_loss: 0.5295 - val_accuracy: 0.9014\n",
      "\n",
      "Epoch 00003: val_accuracy improved from 0.88510 to 0.90144, saving model to /content/drive/MyDrive/Colab/best_weights_2.hdf5\n",
      "Epoch 4/50\n",
      "813/813 [==============================] - 5s 7ms/step - loss: 0.4360 - accuracy: 0.9188 - val_loss: 0.5398 - val_accuracy: 0.8899\n",
      "\n",
      "Epoch 00004: val_accuracy did not improve from 0.90144\n",
      "Epoch 5/50\n",
      "813/813 [==============================] - 5s 7ms/step - loss: 0.3916 - accuracy: 0.9253 - val_loss: 0.4882 - val_accuracy: 0.8967\n",
      "\n",
      "Epoch 00005: val_accuracy did not improve from 0.90144\n",
      "Epoch 6/50\n",
      "813/813 [==============================] - 5s 7ms/step - loss: 0.3621 - accuracy: 0.9303 - val_loss: 0.4589 - val_accuracy: 0.9108\n",
      "\n",
      "Epoch 00006: val_accuracy improved from 0.90144 to 0.91077, saving model to /content/drive/MyDrive/Colab/best_weights_2.hdf5\n",
      "Epoch 7/50\n",
      "813/813 [==============================] - 5s 7ms/step - loss: 0.3423 - accuracy: 0.9335 - val_loss: 0.4416 - val_accuracy: 0.9097\n",
      "\n",
      "Epoch 00007: val_accuracy did not improve from 0.91077\n",
      "Epoch 8/50\n",
      "813/813 [==============================] - 5s 7ms/step - loss: 0.3282 - accuracy: 0.9339 - val_loss: 0.4344 - val_accuracy: 0.9103\n",
      "\n",
      "Epoch 00008: val_accuracy did not improve from 0.91077\n",
      "Epoch 9/50\n",
      "813/813 [==============================] - 5s 7ms/step - loss: 0.3095 - accuracy: 0.9396 - val_loss: 0.4306 - val_accuracy: 0.9153\n",
      "\n",
      "Epoch 00009: val_accuracy improved from 0.91077 to 0.91534, saving model to /content/drive/MyDrive/Colab/best_weights_2.hdf5\n",
      "Epoch 10/50\n",
      "813/813 [==============================] - 5s 7ms/step - loss: 0.3028 - accuracy: 0.9390 - val_loss: 0.4376 - val_accuracy: 0.9175\n",
      "\n",
      "Epoch 00010: val_accuracy improved from 0.91534 to 0.91750, saving model to /content/drive/MyDrive/Colab/best_weights_2.hdf5\n",
      "Epoch 11/50\n",
      "813/813 [==============================] - 5s 7ms/step - loss: 0.2962 - accuracy: 0.9403 - val_loss: 0.4602 - val_accuracy: 0.9081\n",
      "\n",
      "Epoch 00011: val_accuracy did not improve from 0.91750\n",
      "Epoch 12/50\n",
      "813/813 [==============================] - 5s 7ms/step - loss: 0.2936 - accuracy: 0.9407 - val_loss: 0.4671 - val_accuracy: 0.9069\n",
      "\n",
      "Epoch 00012: val_accuracy did not improve from 0.91750\n",
      "Epoch 13/50\n",
      "813/813 [==============================] - 5s 7ms/step - loss: 0.2840 - accuracy: 0.9407 - val_loss: 0.4445 - val_accuracy: 0.9129\n",
      "\n",
      "Epoch 00013: val_accuracy did not improve from 0.91750\n",
      "Epoch 14/50\n",
      "813/813 [==============================] - 5s 7ms/step - loss: 0.2835 - accuracy: 0.9423 - val_loss: 0.4672 - val_accuracy: 0.9097\n",
      "\n",
      "Epoch 00014: val_accuracy did not improve from 0.91750\n",
      "Epoch 15/50\n",
      "813/813 [==============================] - 5s 7ms/step - loss: 0.2792 - accuracy: 0.9435 - val_loss: 0.4945 - val_accuracy: 0.9052\n",
      "\n",
      "Epoch 00015: val_accuracy did not improve from 0.91750\n",
      "Epoch 16/50\n",
      "813/813 [==============================] - 5s 7ms/step - loss: 0.2753 - accuracy: 0.9455 - val_loss: 0.4683 - val_accuracy: 0.9122\n",
      "\n",
      "Epoch 00016: val_accuracy did not improve from 0.91750\n",
      "Epoch 17/50\n",
      "813/813 [==============================] - 5s 7ms/step - loss: 0.2767 - accuracy: 0.9444 - val_loss: 0.5339 - val_accuracy: 0.9109\n",
      "\n",
      "Epoch 00017: val_accuracy did not improve from 0.91750\n",
      "Epoch 18/50\n",
      "813/813 [==============================] - 5s 7ms/step - loss: 0.2776 - accuracy: 0.9453 - val_loss: 0.4878 - val_accuracy: 0.9129\n",
      "\n",
      "Epoch 00018: val_accuracy did not improve from 0.91750\n",
      "Epoch 19/50\n",
      "813/813 [==============================] - 5s 6ms/step - loss: 0.2692 - accuracy: 0.9466 - val_loss: 0.5181 - val_accuracy: 0.9075\n",
      "\n",
      "Epoch 00019: val_accuracy did not improve from 0.91750\n",
      "Epoch 20/50\n",
      "813/813 [==============================] - 5s 7ms/step - loss: 0.2717 - accuracy: 0.9458 - val_loss: 0.5120 - val_accuracy: 0.9089\n",
      "\n",
      "Epoch 00020: val_accuracy did not improve from 0.91750\n",
      "Epoch 00020: early stopping\n"
     ]
    }
   ],
   "source": [
    "'''\n",
    "Step 5\n",
    "Add additional Dense hidden layers as appropriate to improve the accuracy.\n",
    "Based on step 4, we make another model \"network4\".\n",
    "'''\n",
    "\n",
    "network4 = models.Sequential()\n",
    "network4.add(layers.Dense(512, activation='relu', input_shape=(28 * 28,), kernel_regularizer=regularizers.l1(l1=1e-5)))\n",
    "network4.add(layers.Dense(512, activation='relu', input_shape=(28 * 28,), kernel_regularizer=regularizers.l1(l1=1e-5)))\n",
    "network4.add(layers.Dense(512, activation='relu', input_shape=(28 * 28,), kernel_regularizer=regularizers.l1(l1=1e-5)))\n",
    "network4.add(layers.Dense(27, activation='softmax'))\n",
    "\n",
    "best_weights_path = '/content/drive/MyDrive/Colab/best_weights_2.hdf5'  # the path of storing the best weights\n",
    "early_stopping_2 = EarlyStopping(monitor='val_accuracy', patience=10, verbose=1, mode='auto') # early stoping, monitoring accuracy on validation set\n",
    "save_best_model_2 = ModelCheckpoint(best_weights_path, monitor='val_accuracy', verbose=1, save_best_only=True, mode='auto') # save the best model with best weights\n",
    "\n",
    "network4.compile(optimizer='rmsprop',\n",
    "                loss='categorical_crossentropy',\n",
    "                metrics=['accuracy'])\n",
    "\n",
    "network4.fit(train_images, train_labels, validation_data=(validate_images,validate_labels), callbacks=[early_stopping_2, save_best_model_2], epochs=50, batch_size=128)\n",
    "network4.load_weights(best_weights_path)"
   ]
  },
  {
   "cell_type": "markdown",
   "metadata": {
    "id": "WOuMXadVl4oy"
   },
   "source": [
    "We now set 3 hidden layers with each layer has 512 nodes. At epoch 10, the model got the best accuracy at 91.750%. The accuracy improved a little compared with step 4."
   ]
  },
  {
   "cell_type": "code",
   "execution_count": 17,
   "metadata": {
    "colab": {
     "base_uri": "https://localhost:8080/"
    },
    "executionInfo": {
     "elapsed": 2852,
     "status": "ok",
     "timestamp": 1618376973302,
     "user": {
      "displayName": "SC Loong",
      "photoUrl": "",
      "userId": "05070573864239400190"
     },
     "user_tz": 420
    },
    "id": "G6Xnc5ewnMMH",
    "outputId": "e4bd2285-9738-402d-c0c5-b95c0dbf13b0"
   },
   "outputs": [
    {
     "name": "stdout",
     "output_type": "stream",
     "text": [
      "650/650 [==============================] - 2s 3ms/step - loss: 0.4462 - accuracy: 0.9146\n"
     ]
    }
   ],
   "source": [
    "test_loss, test_acc = network4.evaluate(test_images, test_labels)"
   ]
  },
  {
   "cell_type": "markdown",
   "metadata": {
    "id": "iEB5rm09naV1"
   },
   "source": [
    "Compared with step4, the accuracy on test set is also improved."
   ]
  },
  {
   "cell_type": "markdown",
   "metadata": {
    "id": "25gREyQRnwHK"
   },
   "source": [
    "#### Step 6\n",
    "\n",
    "From the output of the four networks on test set, we can find that step 2 to step 5, each model have an improvement base on the model before. At last the acuracy improve almost 1.3%, from 89.98% to 90.67% to 90.94% to 91.46%."
   ]
  },
  {
   "cell_type": "code",
   "execution_count": 21,
   "metadata": {
    "colab": {
     "base_uri": "https://localhost:8080/",
     "height": 1000
    },
    "executionInfo": {
     "elapsed": 3775,
     "status": "ok",
     "timestamp": 1618377594385,
     "user": {
      "displayName": "SC Loong",
      "photoUrl": "",
      "userId": "05070573864239400190"
     },
     "user_tz": 420
    },
    "id": "Yn4juY2nn4-k",
    "outputId": "d1c18d17-b239-4b90-8a98-b2bc915c25fb"
   },
   "outputs": [
    {
     "name": "stdout",
     "output_type": "stream",
     "text": [
      "Wrong predicted image 0\n",
      "Predicted as 17\n",
      "Right lable is 1\n"
     ]
    },
    {
     "data": {
      "image/png": "[encoded data removed]",
      "text/plain": [
       "<Figure size 432x288 with 1 Axes>"
      ]
     },
     "metadata": {
      "needs_background": "light",
      "tags": []
     },
     "output_type": "display_data"
    },
    {
     "name": "stdout",
     "output_type": "stream",
     "text": [
      "Wrong predicted image 1\n",
      "Predicted as 21\n",
      "Right lable is 1\n"
     ]
    },
    {
     "data": {
      "image/png": "[encoded data removed]",
      "text/plain": [
       "<Figure size 432x288 with 1 Axes>"
      ]
     },
     "metadata": {
      "needs_background": "light",
      "tags": []
     },
     "output_type": "display_data"
    },
    {
     "name": "stdout",
     "output_type": "stream",
     "text": [
      "Wrong predicted image 2\n",
      "Predicted as 7\n",
      "Right lable is 1\n"
     ]
    },
    {
     "data": {
      "image/png": "[encoded data removed]",
      "text/plain": [
       "<Figure size 432x288 with 1 Axes>"
      ]
     },
     "metadata": {
      "needs_background": "light",
      "tags": []
     },
     "output_type": "display_data"
    },
    {
     "name": "stdout",
     "output_type": "stream",
     "text": [
      "Wrong predicted image 3\n",
      "Predicted as 17\n",
      "Right lable is 1\n"
     ]
    },
    {
     "data": {
      "image/png": "[encoded data removed]",
      "text/plain": [
       "<Figure size 432x288 with 1 Axes>"
      ]
     },
     "metadata": {
      "needs_background": "light",
      "tags": []
     },
     "output_type": "display_data"
    },
    {
     "name": "stdout",
     "output_type": "stream",
     "text": [
      "Wrong predicted image 4\n",
      "Predicted as 17\n",
      "Right lable is 1\n"
     ]
    },
    {
     "data": {
      "image/png": "[encoded data removed]",
      "text/plain": [
       "<Figure size 432x288 with 1 Axes>"
      ]
     },
     "metadata": {
      "needs_background": "light",
      "tags": []
     },
     "output_type": "display_data"
    },
    {
     "name": "stdout",
     "output_type": "stream",
     "text": [
      "Wrong predicted image 5\n",
      "Predicted as 15\n",
      "Right lable is 1\n"
     ]
    },
    {
     "data": {
      "image/png": "[encoded data removed]",
      "text/plain": [
       "<Figure size 432x288 with 1 Axes>"
      ]
     },
     "metadata": {
      "needs_background": "light",
      "tags": []
     },
     "output_type": "display_data"
    },
    {
     "name": "stdout",
     "output_type": "stream",
     "text": [
      "Wrong predicted image 6\n",
      "Predicted as 26\n",
      "Right lable is 1\n"
     ]
    },
    {
     "data": {
      "image/png": "[encoded data removed]",
      "text/plain": [
       "<Figure size 432x288 with 1 Axes>"
      ]
     },
     "metadata": {
      "needs_background": "light",
      "tags": []
     },
     "output_type": "display_data"
    },
    {
     "name": "stdout",
     "output_type": "stream",
     "text": [
      "Wrong predicted image 7\n",
      "Predicted as 15\n",
      "Right lable is 1\n"
     ]
    },
    {
     "data": {
      "image/png": "[encoded data removed]",
      "text/plain": [
       "<Figure size 432x288 with 1 Axes>"
      ]
     },
     "metadata": {
      "needs_background": "light",
      "tags": []
     },
     "output_type": "display_data"
    },
    {
     "name": "stdout",
     "output_type": "stream",
     "text": [
      "Wrong predicted image 8\n",
      "Predicted as 26\n",
      "Right lable is 1\n"
     ]
    },
    {
     "data": {
      "image/png": "[encoded data removed]",
      "text/plain": [
       "<Figure size 432x288 with 1 Axes>"
      ]
     },
     "metadata": {
      "needs_background": "light",
      "tags": []
     },
     "output_type": "display_data"
    },
    {
     "name": "stdout",
     "output_type": "stream",
     "text": [
      "Wrong predicted image 9\n",
      "Predicted as 15\n",
      "Right lable is 1\n"
     ]
    },
    {
     "data": {
      "image/png": "[encoded data removed]",
      "text/plain": [
       "<Figure size 432x288 with 1 Axes>"
      ]
     },
     "metadata": {
      "needs_background": "light",
      "tags": []
     },
     "output_type": "display_data"
    },
    {
     "name": "stdout",
     "output_type": "stream",
     "text": [
      "Wrong predicted image 10\n",
      "Predicted as 15\n",
      "Right lable is 1\n"
     ]
    },
    {
     "data": {
      "image/png": "[encoded data removed]",
      "text/plain": [
       "<Figure size 432x288 with 1 Axes>"
      ]
     },
     "metadata": {
      "needs_background": "light",
      "tags": []
     },
     "output_type": "display_data"
    },
    {
     "name": "stdout",
     "output_type": "stream",
     "text": [
      "Wrong predicted image 11\n",
      "Predicted as 4\n",
      "Right lable is 1\n"
     ]
    },
    {
     "data": {
      "image/png": "[encoded data removed]",
      "text/plain": [
       "<Figure size 432x288 with 1 Axes>"
      ]
     },
     "metadata": {
      "needs_background": "light",
      "tags": []
     },
     "output_type": "display_data"
    },
    {
     "name": "stdout",
     "output_type": "stream",
     "text": [
      "Wrong predicted image 12\n",
      "Predicted as 16\n",
      "Right lable is 1\n"
     ]
    },
    {
     "data": {
      "image/png": "[encoded data removed]",
      "text/plain": [
       "<Figure size 432x288 with 1 Axes>"
      ]
     },
     "metadata": {
      "needs_background": "light",
      "tags": []
     },
     "output_type": "display_data"
    },
    {
     "name": "stdout",
     "output_type": "stream",
     "text": [
      "Wrong predicted image 13\n",
      "Predicted as 16\n",
      "Right lable is 1\n"
     ]
    },
    {
     "data": {
      "image/png": "[encoded data removed]",
      "text/plain": [
       "<Figure size 432x288 with 1 Axes>"
      ]
     },
     "metadata": {
      "needs_background": "light",
      "tags": []
     },
     "output_type": "display_data"
    },
    {
     "name": "stdout",
     "output_type": "stream",
     "text": [
      "Wrong predicted image 14\n",
      "Predicted as 5\n",
      "Right lable is 1\n"
     ]
    },
    {
     "data": {
      "image/png": "[encoded data removed]",
      "text/plain": [
       "<Figure size 432x288 with 1 Axes>"
      ]
     },
     "metadata": {
      "needs_background": "light",
      "tags": []
     },
     "output_type": "display_data"
    },
    {
     "name": "stdout",
     "output_type": "stream",
     "text": [
      "Wrong predicted image 15\n",
      "Predicted as 4\n",
      "Right lable is 1\n"
     ]
    },
    {
     "data": {
      "image/png": "[encoded data removed]",
      "text/plain": [
       "<Figure size 432x288 with 1 Axes>"
      ]
     },
     "metadata": {
      "needs_background": "light",
      "tags": []
     },
     "output_type": "display_data"
    },
    {
     "name": "stdout",
     "output_type": "stream",
     "text": [
      "Wrong predicted image 16\n",
      "Predicted as 13\n",
      "Right lable is 1\n"
     ]
    },
    {
     "data": {
      "image/png": "[encoded data removed]",
      "text/plain": [
       "<Figure size 432x288 with 1 Axes>"
      ]
     },
     "metadata": {
      "needs_background": "light",
      "tags": []
     },
     "output_type": "display_data"
    },
    {
     "name": "stdout",
     "output_type": "stream",
     "text": [
      "Wrong predicted image 17\n",
      "Predicted as 6\n",
      "Right lable is 1\n"
     ]
    },
    {
     "data": {
      "image/png": "[encoded data removed]",
      "text/plain": [
       "<Figure size 432x288 with 1 Axes>"
      ]
     },
     "metadata": {
      "needs_background": "light",
      "tags": []
     },
     "output_type": "display_data"
    },
    {
     "name": "stdout",
     "output_type": "stream",
     "text": [
      "Wrong predicted image 18\n",
      "Predicted as 3\n",
      "Right lable is 1\n"
     ]
    },
    {
     "data": {
      "image/png": "[encoded data removed]",
      "text/plain": [
       "<Figure size 432x288 with 1 Axes>"
      ]
     },
     "metadata": {
      "needs_background": "light",
      "tags": []
     },
     "output_type": "display_data"
    },
    {
     "name": "stdout",
     "output_type": "stream",
     "text": [
      "Wrong predicted image 19\n",
      "Predicted as 15\n",
      "Right lable is 1\n"
     ]
    },
    {
     "data": {
      "image/png": "[encoded data removed]",
      "text/plain": [
       "<Figure size 432x288 with 1 Axes>"
      ]
     },
     "metadata": {
      "needs_background": "light",
      "tags": []
     },
     "output_type": "display_data"
    },
    {
     "name": "stdout",
     "output_type": "stream",
     "text": [
      "Wrong predicted image 20\n",
      "Predicted as 15\n",
      "Right lable is 1\n"
     ]
    },
    {
     "data": {
      "image/png": "[encoded data removed]",
      "text/plain": [
       "<Figure size 432x288 with 1 Axes>"
      ]
     },
     "metadata": {
      "needs_background": "light",
      "tags": []
     },
     "output_type": "display_data"
    },
    {
     "name": "stdout",
     "output_type": "stream",
     "text": [
      "Wrong predicted image 21\n",
      "Predicted as 26\n",
      "Right lable is 1\n"
     ]
    },
    {
     "data": {
      "image/png": "[encoded data removed]",
      "text/plain": [
       "<Figure size 432x288 with 1 Axes>"
      ]
     },
     "metadata": {
      "needs_background": "light",
      "tags": []
     },
     "output_type": "display_data"
    },
    {
     "name": "stdout",
     "output_type": "stream",
     "text": [
      "Wrong predicted image 22\n",
      "Predicted as 17\n",
      "Right lable is 1\n"
     ]
    },
    {
     "data": {
      "image/png": "[encoded data removed]",
      "text/plain": [
       "<Figure size 432x288 with 1 Axes>"
      ]
     },
     "metadata": {
      "needs_background": "light",
      "tags": []
     },
     "output_type": "display_data"
    },
    {
     "name": "stdout",
     "output_type": "stream",
     "text": [
      "Wrong predicted image 23\n",
      "Predicted as 17\n",
      "Right lable is 1\n"
     ]
    },
    {
     "data": {
      "image/png": "[encoded data removed]",
      "text/plain": [
       "<Figure size 432x288 with 1 Axes>"
      ]
     },
     "metadata": {
      "needs_background": "light",
      "tags": []
     },
     "output_type": "display_data"
    },
    {
     "name": "stdout",
     "output_type": "stream",
     "text": [
      "Wrong predicted image 24\n",
      "Predicted as 14\n",
      "Right lable is 1\n"
     ]
    },
    {
     "data": {
      "image/png": "[encoded data removed]",
      "text/plain": [
       "<Figure size 432x288 with 1 Axes>"
      ]
     },
     "metadata": {
      "needs_background": "light",
      "tags": []
     },
     "output_type": "display_data"
    },
    {
     "name": "stdout",
     "output_type": "stream",
     "text": [
      "Wrong predicted image 25\n",
      "Predicted as 4\n",
      "Right lable is 1\n"
     ]
    },
    {
     "data": {
      "image/png": "[encoded data removed]",
      "text/plain": [
       "<Figure size 432x288 with 1 Axes>"
      ]
     },
     "metadata": {
      "needs_background": "light",
      "tags": []
     },
     "output_type": "display_data"
    },
    {
     "name": "stdout",
     "output_type": "stream",
     "text": [
      "Wrong predicted image 26\n",
      "Predicted as 14\n",
      "Right lable is 1\n"
     ]
    },
    {
     "data": {
      "image/png": "[encoded data removed]",
      "text/plain": [
       "<Figure size 432x288 with 1 Axes>"
      ]
     },
     "metadata": {
      "needs_background": "light",
      "tags": []
     },
     "output_type": "display_data"
    },
    {
     "name": "stdout",
     "output_type": "stream",
     "text": [
      "Wrong predicted image 27\n",
      "Predicted as 5\n",
      "Right lable is 1\n"
     ]
    },
    {
     "data": {
      "image/png": "[encoded data removed]",
      "text/plain": [
       "<Figure size 432x288 with 1 Axes>"
      ]
     },
     "metadata": {
      "needs_background": "light",
      "tags": []
     },
     "output_type": "display_data"
    },
    {
     "name": "stdout",
     "output_type": "stream",
     "text": [
      "Wrong predicted image 28\n",
      "Predicted as 18\n",
      "Right lable is 1\n"
     ]
    },
    {
     "data": {
      "image/png": "[encoded data removed]",
      "text/plain": [
       "<Figure size 432x288 with 1 Axes>"
      ]
     },
     "metadata": {
      "needs_background": "light",
      "tags": []
     },
     "output_type": "display_data"
    },
    {
     "name": "stdout",
     "output_type": "stream",
     "text": [
      "Wrong predicted image 29\n",
      "Predicted as 17\n",
      "Right lable is 1\n"
     ]
    },
    {
     "data": {
      "image/png": "[encoded data removed]",
      "text/plain": [
       "<Figure size 432x288 with 1 Axes>"
      ]
     },
     "metadata": {
      "needs_background": "light",
      "tags": []
     },
     "output_type": "display_data"
    }
   ],
   "source": [
    "'''\n",
    "Step 7\n",
    "Output 30 wrong predict images, and discuss why\n",
    "'''\n",
    "\n",
    "pred = network4.predict(test_images)\n",
    "i = 0\n",
    "for j in range(len(pred)):\n",
    "  if np.argmax(pred[j]) != np.argmax(test_labels[j]) and i < 30:\n",
    "    print(\"Wrong predicted image\", i)\n",
    "    print(\"Predicted as\", np.argmax(pred[j]))\n",
    "    print(\"Right lable is\", np.argmax(test_labels[j]))\n",
    "    i += 1\n",
    "    test_image = np.reshape(test_images[j], (28, 28))\n",
    "    plt.imshow(test_image) \n",
    "    plt.axis('off') \n",
    "    plt.show()"
   ]
  },
  {
   "cell_type": "markdown",
   "metadata": {
    "id": "rK3qeKlirXkD"
   },
   "source": [
    "In step 7, we outputs the first 20 wrong predicted images. Because of test set is 20800 elements, so the wrong images are all \"A\" or \"a\". From the result we can find the probability of wrong prediction is more accurred on \"a\" than \"A\". Some images \"a\" predict as \"D\", \"E\", \"O\" or \"Q\", that might because the hand writing \"a\" is similar to \"D\", \"e\", \"O\", \"o\", and \"Q\"."
   ]
  }
 ],
 "metadata": {
  "accelerator": "GPU",
  "colab": {
   "authorship_tag": "ABX9TyMGMQ1Nou6dqAwKu16hlEYa",
   "collapsed_sections": [],
   "name": "Untitled0.ipynb",
   "provenance": [],
   "toc_visible": true
  },
  "kernelspec": {
   "display_name": "Python 3",
   "language": "python",
   "name": "python3"
  },
  "language_info": {
   "codemirror_mode": {
    "name": "ipython",
    "version": 3
   },
   "file_extension": ".py",
   "mimetype": "text/x-python",
   "name": "python",
   "nbconvert_exporter": "python",
   "pygments_lexer": "ipython3",
   "version": "3.8.5"
  }
 },
 "nbformat": 4,
 "nbformat_minor": 1
}
